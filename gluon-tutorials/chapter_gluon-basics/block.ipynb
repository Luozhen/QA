{
 "cells": [
  {
   "cell_type": "markdown",
   "metadata": {},
   "source": [
    "# 创建神经网络\n",
    "\n",
    "前面的教程我们教了大家如何实现线性回归，多类Logistic回归和多层感知机。我们既展示了如何从0开始实现，也提供使用`gluon`的更紧凑的实现。因为前面我们主要关注在模型本身，所以只解释了如何使用`gluon`，但没说明他们是如何工作的。我们使用了`nn.Sequential`，它是`nn.Block`的一个简单形式，但没有深入了解它们。\n",
    "\n",
    "本教程和接下来几个教程，我们将详细解释如何使用这两个类来定义神经网络、初始化参数、以及保存和读取模型。\n",
    "\n",
    "我们重新把[多层感知机 --- 使用Gluon](../chapter_supervised-learning/mlp-gluon.md)里的网络定义搬到这里作为开始的例子（为了简单起见，这里我们丢掉了Flatten层）。"
   ]
  },
  {
   "cell_type": "code",
   "execution_count": 1,
   "metadata": {
    "attributes": {
     "classes": [],
     "id": "",
     "n": "9"
    }
   },
   "outputs": [
    {
     "name": "stdout",
     "output_type": "stream",
     "text": [
      "Sequential(\n",
      "  (0): Dense(None -> 256, Activation(relu))\n",
      "  (1): Dense(None -> 10, linear)\n",
      ")\n"
     ]
    }
   ],
   "source": [
    "from mxnet import nd\n",
    "from mxnet.gluon import nn\n",
    "\n",
    "net = nn.Sequential()\n",
    "with net.name_scope():\n",
    "    net.add(nn.Dense(256, activation=\"relu\"))\n",
    "    net.add(nn.Dense(10))\n",
    "\n",
    "print(net)"
   ]
  },
  {
   "cell_type": "markdown",
   "metadata": {},
   "source": [
    "## 使用 `nn.Block` 来定义\n",
    "\n",
    "事实上，`nn.Sequential`是`nn.Block`的简单形式。我们先来看下如何使用`nn.Block`来实现同样的网络。"
   ]
  },
  {
   "cell_type": "code",
   "execution_count": 2,
   "metadata": {
    "attributes": {
     "classes": [],
     "id": "",
     "n": "10"
    }
   },
   "outputs": [],
   "source": [
    "class MLP(nn.Block):\n",
    "    def __init__(self, **kwargs):\n",
    "        super(MLP, self).__init__(**kwargs)\n",
    "        with self.name_scope():\n",
    "            self.dense0 = nn.Dense(256)\n",
    "            self.dense1 = nn.Dense(10)\n",
    "\n",
    "    def forward(self, x):\n",
    "        return self.dense1(nd.relu(self.dense0(x)))"
   ]
  },
  {
   "cell_type": "markdown",
   "metadata": {},
   "source": [
    "可以看到`nn.Block`的使用是通过创建一个它子类的类，其中至少包含了两个函数。\n",
    "\n",
    "- `__init__`：创建参数。上面例子我们使用了包含了参数的`dense`层\n",
    "- `forward()`：定义网络的计算\n",
    "\n",
    "我们所创建的类的使用跟前面`net`没有太多不一样。"
   ]
  },
  {
   "cell_type": "code",
   "execution_count": 3,
   "metadata": {
    "attributes": {
     "classes": [],
     "id": "",
     "n": "15"
    }
   },
   "outputs": [
    {
     "name": "stdout",
     "output_type": "stream",
     "text": [
      "MLP(\n",
      "  (dense0): Dense(None -> 256, linear)\n",
      "  (dense1): Dense(None -> 10, linear)\n",
      ")\n"
     ]
    },
    {
     "data": {
      "text/plain": [
       "\n",
       "[[ 0.03126615  0.04562764  0.00039857 -0.08772386 -0.05355632  0.02904574\n",
       "   0.08102557 -0.01433946 -0.04224151  0.06047882]\n",
       " [ 0.02871901  0.03652265  0.00630051 -0.05650971 -0.07189322  0.08615957\n",
       "   0.05951559 -0.06045965 -0.0299026   0.05651001]\n",
       " [ 0.02147349  0.04818896  0.05321142 -0.12616856 -0.0685023   0.09096345\n",
       "   0.04064304 -0.05064794 -0.02200242  0.04859561]\n",
       " [ 0.03780478  0.0751239   0.03290457 -0.11641113 -0.03254967  0.0586529\n",
       "   0.02542157 -0.01697343 -0.00049652  0.05892839]]\n",
       "<NDArray 4x10 @cpu(0)>"
      ]
     },
     "execution_count": 3,
     "metadata": {},
     "output_type": "execute_result"
    }
   ],
   "source": [
    "net2 = MLP()\n",
    "print(net2)\n",
    "net2.initialize()\n",
    "x = nd.random.uniform(shape=(4,20))\n",
    "y = net2(x)\n",
    "y"
   ]
  },
  {
   "cell_type": "code",
   "execution_count": 4,
   "metadata": {},
   "outputs": [
    {
     "data": {
      "text/plain": [
       "mxnet.gluon.nn.basic_layers.Dense"
      ]
     },
     "execution_count": 4,
     "metadata": {},
     "output_type": "execute_result"
    }
   ],
   "source": [
    "nn.Dense"
   ]
  },
  {
   "cell_type": "markdown",
   "metadata": {},
   "source": [
    "如何定义创建和使用`nn.Dense`比较好理解。接下来我们仔细看下`MLP`里面用的其他命令：\n",
    "\n",
    "- `super(MLP, self).__init__(**kwargs)`：这句话调用`nn.Block`的`__init__`函数，它提供了`prefix`（指定名字）和`params`（指定模型参数）两个参数。我们会之后详细解释如何使用。\n",
    "\n",
    "- `self.name_scope()`：调用`nn.Block`提供的`name_scope()`函数。`nn.Dense`的定义放在这个`scope`里面。它的作用是给里面的所有层和参数的名字加上前缀（prefix）使得他们在系统里面独一无二。默认自动会自动生成前缀，我们也可以在创建的时候手动指定。推荐在构建网络时，每个层至少在一个`name_scope()`里。"
   ]
  },
  {
   "cell_type": "code",
   "execution_count": 5,
   "metadata": {},
   "outputs": [
    {
     "name": "stdout",
     "output_type": "stream",
     "text": [
      "default prefix: mlp0_dense0\n",
      "customized prefix: another_mlp_dense0\n"
     ]
    }
   ],
   "source": [
    "print('default prefix:', net2.dense0.name)\n",
    "\n",
    "net3 = MLP(prefix='another_mlp_')\n",
    "print('customized prefix:', net3.dense0.name)"
   ]
  },
  {
   "cell_type": "markdown",
   "metadata": {},
   "source": [
    "大家会发现这里并没有定义如何求导，或者是`backward()`函数。事实上，系统会使用`autograd`对`forward()`自动生成对应的`backward()`函数。\n",
    "\n",
    "## `nn.Block`到底是什么东西？\n",
    "\n",
    "在`gluon`里，`nn.Block`是一个一般化的部件。整个神经网络可以是一个`nn.Block`，单个层也是一个`nn.Block`。我们可以（近似）无限地嵌套`nn.Block`来构建新的`nn.Block`。\n",
    "\n",
    "`nn.Block`主要提供这个东西\n",
    "\n",
    "1. 存储参数\n",
    "2. 描述`forward`如何执行\n",
    "3. 自动求导\n",
    "\n",
    "## 那么现在可以解释`nn.Sequential`了吧\n",
    "\n",
    "`nn.Sequential`是一个`nn.Block`容器，它通过`add`来添加`nn.Block`。它自动生成`forward()`函数，其就是把加进来的`nn.Block`逐一运行。\n",
    "\n",
    "一个简单的实现是这样的："
   ]
  },
  {
   "cell_type": "code",
   "execution_count": 6,
   "metadata": {},
   "outputs": [],
   "source": [
    "class Sequential(nn.Block):\n",
    "    def __init__(self, **kwargs):\n",
    "        super(Sequential, self).__init__(**kwargs)\n",
    "    def add(self, block):\n",
    "        self._children.append(block)\n",
    "    def forward(self, x):\n",
    "        for block in self._children:\n",
    "            x = block(x)\n",
    "        return x"
   ]
  },
  {
   "cell_type": "markdown",
   "metadata": {},
   "source": [
    "可以跟`nn.Sequential`一样的使用这个自定义的类："
   ]
  },
  {
   "cell_type": "code",
   "execution_count": 7,
   "metadata": {},
   "outputs": [
    {
     "data": {
      "text/plain": [
       "\n",
       "[[-0.00411107  0.00781807  0.03506001 -0.01106469  0.09599376 -0.04190594\n",
       "   0.01127483 -0.01493319  0.0716491   0.00700368]\n",
       " [ 0.01214233  0.02546027  0.03533494 -0.02328116  0.10768862 -0.01672854\n",
       "  -0.02653831 -0.03458688  0.0640486  -0.00030123]\n",
       " [-0.00452384  0.00228632  0.02761049 -0.05750641  0.10328892 -0.01792853\n",
       "  -0.04610601 -0.04085524  0.05824737  0.00033787]\n",
       " [-0.00518477 -0.02185423  0.02528594 -0.00436605  0.05142229 -0.02703231\n",
       "   0.01939205 -0.03802725  0.02832718 -0.0172073 ]]\n",
       "<NDArray 4x10 @cpu(0)>"
      ]
     },
     "execution_count": 7,
     "metadata": {},
     "output_type": "execute_result"
    }
   ],
   "source": [
    "net4 = Sequential()\n",
    "with net4.name_scope():\n",
    "    net4.add(nn.Dense(256, activation=\"relu\"))\n",
    "    net4.add(nn.Dense(10))\n",
    "\n",
    "net4.initialize()\n",
    "y = net4(x)\n",
    "y"
   ]
  },
  {
   "cell_type": "markdown",
   "metadata": {},
   "source": [
    "可以看到，`nn.Sequential`的主要好处是定义网络起来更加简单。但`nn.Block`可以提供更加灵活的网络定义。考虑下面这个例子"
   ]
  },
  {
   "cell_type": "code",
   "execution_count": 8,
   "metadata": {},
   "outputs": [],
   "source": [
    "class FancyMLP(nn.Block):\n",
    "    def __init__(self, **kwargs):\n",
    "        super(FancyMLP, self).__init__(**kwargs)\n",
    "        with self.name_scope():\n",
    "            self.dense = nn.Dense(256)\n",
    "            self.weight = nd.random_uniform(shape=(256,20))\n",
    "\n",
    "    def forward(self, x):\n",
    "        x = nd.relu(self.dense(x))\n",
    "        x = nd.relu(nd.dot(x, self.weight)+1)\n",
    "        x = nd.relu(self.dense(x))\n",
    "        return x"
   ]
  },
  {
   "cell_type": "markdown",
   "metadata": {},
   "source": [
    "看到这里我们直接手动创建和初始了权重`weight`，并重复用了`dense`的层。测试一下："
   ]
  },
  {
   "cell_type": "code",
   "execution_count": 9,
   "metadata": {},
   "outputs": [
    {
     "name": "stdout",
     "output_type": "stream",
     "text": [
      "(4, 256)\n"
     ]
    }
   ],
   "source": [
    "fancy_mlp = FancyMLP()\n",
    "fancy_mlp.initialize()\n",
    "y = fancy_mlp(x)\n",
    "print(y.shape)"
   ]
  },
  {
   "cell_type": "markdown",
   "metadata": {},
   "source": [
    "## `nn.Block`和`nn.Sequential`的嵌套使用\n",
    "\n",
    "现在我们知道了`nn`下面的类基本都是`nn.Block`的子类，他们可以很方便地嵌套使用。"
   ]
  },
  {
   "cell_type": "code",
   "execution_count": 10,
   "metadata": {},
   "outputs": [
    {
     "name": "stdout",
     "output_type": "stream",
     "text": [
      "Sequential(\n",
      "  (0): RecMLP(\n",
      "    (net): Sequential(\n",
      "      (0): Dense(None -> 256, Activation(relu))\n",
      "      (1): Dense(None -> 128, Activation(relu))\n",
      "    )\n",
      "    (dense): Dense(None -> 64, linear)\n",
      "  )\n",
      "  (1): Dense(None -> 10, linear)\n",
      ")\n"
     ]
    }
   ],
   "source": [
    "class RecMLP(nn.Block):\n",
    "    def __init__(self, **kwargs):\n",
    "        super(RecMLP, self).__init__(**kwargs)\n",
    "        self.net = nn.Sequential()\n",
    "        with self.name_scope():\n",
    "            self.net.add(nn.Dense(256, activation=\"relu\"))\n",
    "            self.net.add(nn.Dense(128, activation=\"relu\"))\n",
    "            self.dense = nn.Dense(64)\n",
    "\n",
    "    def forward(self, x):\n",
    "        return nd.relu(self.dense(self.net(x)))\n",
    "\n",
    "rec_mlp = nn.Sequential()\n",
    "rec_mlp.add(RecMLP())\n",
    "rec_mlp.add(nn.Dense(10))\n",
    "print(rec_mlp)"
   ]
  },
  {
   "cell_type": "markdown",
   "metadata": {},
   "source": [
    "## 总结\n",
    "\n",
    "不知道你同不同意，通过`nn.Block`来定义神经网络跟玩积木很类似。\n",
    "\n",
    "## 练习\n",
    "\n",
    "如果把`RecMLP`改成`self.denses = [nn.Dense(256), nn.Dense(128), nn.Dense(64)]`，`forward`就用for loop来实现，会有什么问题吗？\n",
    "\n",
    "**吐槽和讨论欢迎点**[这里](https://discuss.gluon.ai/t/topic/986)"
   ]
  }
 ],
 "metadata": {
  "language_info": {
   "name": "python"
  }
 },
 "nbformat": 4,
 "nbformat_minor": 2
}