{
 "cells": [
  {
   "cell_type": "markdown",
   "metadata": {},
   "source": [
    "# 批量归一化 --- 使用Gluon\n",
    "\n",
    "本章介绍如何使用``Gluon``在训练和测试深度学习模型中使用批量归一化。\n",
    "\n",
    "\n",
    "## 定义模型并添加批量归一化层\n",
    "\n",
    "有了`Gluon`，我们模型的定义工作变得简单了许多。我们只需要添加`nn.BatchNorm`层并指定对二维卷积的通道(`axis=1`)进行批量归一化。"
   ]
  },
  {
   "cell_type": "code",
   "execution_count": 1,
   "metadata": {
    "attributes": {
     "classes": [],
     "id": "",
     "n": "1"
    }
   },
   "outputs": [],
   "source": [
    "from mxnet.gluon import nn\n",
    "\n",
    "net = nn.Sequential()\n",
    "with net.name_scope():\n",
    "    # 第一层卷积\n",
    "    net.add(nn.Conv2D(channels=20, kernel_size=5))\n",
    "    ### 添加了批量归一化层 \n",
    "    net.add(nn.BatchNorm(axis=1))\n",
    "    net.add(nn.Activation(activation='relu'))\n",
    "    net.add(nn.MaxPool2D(pool_size=2, strides=2))\n",
    "    # 第二层卷积\n",
    "    net.add(nn.Conv2D(channels=50, kernel_size=3))\n",
    "    ### 添加了批量归一化层 \n",
    "    net.add(nn.BatchNorm(axis=1))\n",
    "    net.add(nn.Activation(activation='relu'))\n",
    "    net.add(nn.MaxPool2D(pool_size=2, strides=2))\n",
    "    net.add(nn.Flatten())\n",
    "    # 第一层全连接\n",
    "    net.add(nn.Dense(128, activation=\"relu\"))\n",
    "    # 第二层全连接\n",
    "    net.add(nn.Dense(10))"
   ]
  },
  {
   "cell_type": "markdown",
   "metadata": {},
   "source": [
    "## 模型训练\n",
    "\n",
    "剩下的代码跟之前没什么不一样。"
   ]
  },
  {
   "cell_type": "code",
   "execution_count": 2,
   "metadata": {
    "attributes": {
     "classes": [],
     "id": "",
     "n": "3"
    }
   },
   "outputs": [
    {
     "name": "stdout",
     "output_type": "stream",
     "text": [
      "Epoch 0. Loss: 0.592418, Train acc 0.781217, Test acc 0.860978\n"
     ]
    },
    {
     "name": "stdout",
     "output_type": "stream",
     "text": [
      "Epoch 1. Loss: 0.354755, Train acc 0.867204, Test acc 0.872095\n"
     ]
    },
    {
     "name": "stdout",
     "output_type": "stream",
     "text": [
      "Epoch 2. Loss: 0.307822, Train acc 0.885817, Test acc 0.896434\n"
     ]
    },
    {
     "name": "stdout",
     "output_type": "stream",
     "text": [
      "Epoch 3. Loss: 0.277684, Train acc 0.896117, Test acc 0.897135\n"
     ]
    },
    {
     "name": "stdout",
     "output_type": "stream",
     "text": [
      "Epoch 4. Loss: 0.255748, Train acc 0.904497, Test acc 0.906651\n"
     ]
    }
   ],
   "source": [
    "import sys\n",
    "sys.path.append('..')\n",
    "import utils\n",
    "from mxnet import autograd \n",
    "from mxnet import gluon\n",
    "from mxnet import nd\n",
    "\n",
    "ctx = utils.try_gpu()\n",
    "net.initialize(ctx=ctx)\n",
    "\n",
    "batch_size = 256\n",
    "train_data, test_data = utils.load_data_fashion_mnist(batch_size)\n",
    "\n",
    "softmax_cross_entropy = gluon.loss.SoftmaxCrossEntropyLoss()\n",
    "trainer = gluon.Trainer(net.collect_params(), 'sgd', {'learning_rate': 0.2})\n",
    "\n",
    "for epoch in range(5):\n",
    "    train_loss = 0.\n",
    "    train_acc = 0.\n",
    "    for data, label in train_data:\n",
    "        label = label.as_in_context(ctx)\n",
    "        with autograd.record():\n",
    "            output = net(data.as_in_context(ctx))\n",
    "            loss = softmax_cross_entropy(output, label)\n",
    "        loss.backward()\n",
    "        trainer.step(batch_size)\n",
    "\n",
    "        train_loss += nd.mean(loss).asscalar()\n",
    "        train_acc += utils.accuracy(output, label)\n",
    "    test_acc = utils.evaluate_accuracy(test_data, net, ctx)\n",
    "    print(\"Epoch %d. Loss: %f, Train acc %f, Test acc %f\" % (\n",
    "        epoch, train_loss/len(train_data), \n",
    "        train_acc/len(train_data), test_acc))"
   ]
  },
  {
   "cell_type": "markdown",
   "metadata": {},
   "source": [
    "## 总结\n",
    "\n",
    "使用``Gluon``我们可以很轻松地添加批量归一化层。\n",
    "\n",
    "## 练习\n",
    "\n",
    "如果在全连接层添加批量归一化结果会怎么样？\n",
    "\n",
    "**吐槽和讨论欢迎点**[这里](https://discuss.gluon.ai/t/topic/1254)"
   ]
  }
 ],
 "metadata": {
  "language_info": {
   "name": "python"
  }
 },
 "nbformat": 4,
 "nbformat_minor": 2
}