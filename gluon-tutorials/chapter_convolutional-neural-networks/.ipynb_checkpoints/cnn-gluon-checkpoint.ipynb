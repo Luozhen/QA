{
 "cells": [
  {
   "cell_type": "markdown",
   "metadata": {},
   "source": [
    "# 卷积神经网络 --- 使用Gluon\n",
    "\n",
    "现在我们使用Gluon来实现[上一章的卷积神经网络](cnn-scratch.md)。\n",
    "\n",
    "## 定义模型\n",
    "\n",
    "下面是LeNet在Gluon里的实现，注意到我们不再需要实现去计算每层的输入大小，尤其是接在卷积后面的那个全连接层。"
   ]
  },
  {
   "cell_type": "code",
   "execution_count": 1,
   "metadata": {
    "collapsed": true
   },
   "outputs": [],
   "source": [
    "from mxnet.gluon import nn\n",
    "\n",
    "net = nn.Sequential()\n",
    "with net.name_scope():\n",
    "    net.add(\n",
    "        nn.Conv2D(channels=20, kernel_size=5, activation='relu'),\n",
    "        nn.MaxPool2D(pool_size=2, strides=2),\n",
    "        nn.Conv2D(channels=50, kernel_size=3, activation='relu'),\n",
    "        nn.MaxPool2D(pool_size=2, strides=2),\n",
    "        nn.Flatten(),\n",
    "        nn.Dense(128, activation=\"relu\"),\n",
    "        nn.Dense(10)\n",
    "    )"
   ]
  },
  {
   "cell_type": "markdown",
   "metadata": {},
   "source": [
    "## 获取数据和训练\n",
    "\n",
    "剩下的跟上一章没什么不同，我们重用`utils.py`里定义的函数。"
   ]
  },
  {
   "cell_type": "code",
   "execution_count": 2,
   "metadata": {},
   "outputs": [
    {
     "name": "stdout",
     "output_type": "stream",
     "text": [
      "initialize weight on gpu(0)\n",
      "Start training on  gpu(0)\n",
      "Epoch 0. Loss: 2.311, Train acc 0.12, Test acc 0.10, Time 2.1 sec\n",
      "Epoch 1. Loss: 2.303, Train acc 0.10, Test acc 0.10, Time 2.0 sec\n",
      "Epoch 2. Loss: 2.303, Train acc 0.10, Test acc 0.10, Time 1.9 sec\n",
      "Epoch 3. Loss: 2.303, Train acc 0.10, Test acc 0.10, Time 2.0 sec\n",
      "Epoch 4. Loss: 2.303, Train acc 0.10, Test acc 0.10, Time 2.0 sec\n"
     ]
    }
   ],
   "source": [
    "from mxnet import gluon\n",
    "import sys\n",
    "sys.path.append('..')\n",
    "import utils\n",
    "\n",
    "# 初始化\n",
    "ctx = utils.try_gpu()\n",
    "net.initialize(ctx=ctx)\n",
    "print('initialize weight on', ctx)\n",
    "\n",
    "# 获取数据\n",
    "batch_size = 256\n",
    "train_data, test_data = utils.load_data_fashion_mnist(batch_size)\n",
    "\n",
    "# 训练\n",
    "loss = gluon.loss.SoftmaxCrossEntropyLoss()\n",
    "trainer = gluon.Trainer(net.collect_params(),\n",
    "                        'sgd', {'learning_rate': 0.5})\n",
    "utils.train(train_data, test_data, net, loss,\n",
    "            trainer, ctx, num_epochs=5)"
   ]
  },
  {
   "cell_type": "markdown",
   "metadata": {},
   "source": [
    "## 结论\n",
    "\n",
    "使用Gluon来实现卷积网络轻松加随意。\n",
    "\n",
    "## 练习\n",
    "\n",
    "再试试改改卷积层设定，是不是会比上一章容易很多？\n",
    "\n",
    "**吐槽和讨论欢迎点**[这里](https://discuss.gluon.ai/t/topic/737)"
   ]
  }
 ],
 "metadata": {
  "kernelspec": {
   "display_name": "Python 2",
   "language": "python",
   "name": "python2"
  },
  "language_info": {
   "codemirror_mode": {
    "name": "ipython",
    "version": 2
   },
   "file_extension": ".py",
   "mimetype": "text/x-python",
   "name": "python",
   "nbconvert_exporter": "python",
   "pygments_lexer": "ipython2",
   "version": "2.7.13"
  }
 },
 "nbformat": 4,
 "nbformat_minor": 2
}
