{
 "cells": [
  {
   "cell_type": "markdown",
   "metadata": {},
   "source": [
    "# 多GPU来训练 --- 使用Gluon\n",
    "\n",
    "\n",
    "在Gluon里可以很容易的使用数据并行。在[多GPU来训练 --- 从0开始](./multiple-gpus-scratch.md)里我们手动实现了几个数据同步函数来使用数据并行，Gluon里实现了同样的功能。\n",
    "\n",
    "\n",
    "## 多设备上的初始化\n",
    "\n",
    "之前我们介绍了如果使用`initialize()`里的`ctx`在CPU或者特定GPU上初始化模型。事实上，`ctx`可以接受一系列的设备，它会将初始好的参数复制所有的设备上。\n",
    "\n",
    "这里我们使用之前介绍Resnet18来作为演示。"
   ]
  },
  {
   "cell_type": "code",
   "execution_count": 1,
   "metadata": {
    "attributes": {
     "classes": [],
     "id": "",
     "n": "1"
    }
   },
   "outputs": [],
   "source": [
    "import sys\n",
    "sys.path.append('..')\n",
    "import utils\n",
    "from mxnet import gpu\n",
    "from mxnet import cpu\n",
    "\n",
    "net = utils.resnet18(10)\n",
    "ctx = [gpu(0), gpu(1)]\n",
    "net.initialize(ctx=ctx)"
   ]
  },
  {
   "cell_type": "markdown",
   "metadata": {},
   "source": [
    "记得前面提到的[延迟初始化](../chapter_gluon-basics/parameters.md)，这里参数还没有被初始化。我们需要先给定数据跑一次。\n",
    "\n",
    "Gluon提供了之前我们实现的`split_and_load`函数，它将数据分割并返回各个设备上的复制。然后根据输入的设备，计算也会在相应的数据上执行。"
   ]
  },
  {
   "cell_type": "code",
   "execution_count": 2,
   "metadata": {},
   "outputs": [
    {
     "name": "stdout",
     "output_type": "stream",
     "text": [
      "\n",
      "[[-0.00299451 -0.114948   -0.04571831 -0.08353794  0.09219883 -0.10255374\n",
      "   0.08285993  0.08471885 -0.03377745  0.0142048 ]\n",
      " [-0.01095816 -0.12053964 -0.05160385 -0.08963331  0.08892047 -0.10402268\n",
      "   0.07713397  0.08005997 -0.02352627  0.02912929]]\n",
      "<NDArray 2x10 @gpu(0)>\n",
      "\n",
      "[[-0.00705471 -0.11297002 -0.04886303 -0.08850279  0.0929175  -0.10409503\n",
      "   0.07982443  0.08671783 -0.01739573  0.02761966]\n",
      " [-0.01419117 -0.10728938 -0.0441721  -0.08339462  0.09654251 -0.09772847\n",
      "   0.08203971  0.09051772 -0.02636191  0.02598564]]\n",
      "<NDArray 2x10 @gpu(1)>\n"
     ]
    }
   ],
   "source": [
    "from mxnet import nd\n",
    "from mxnet import gluon\n",
    "\n",
    "x = nd.random.uniform(shape=(4, 1, 28, 28))\n",
    "x_list = gluon.utils.split_and_load(x, ctx)\n",
    "print(net(x_list[0]))\n",
    "print(net(x_list[1]))"
   ]
  },
  {
   "cell_type": "markdown",
   "metadata": {},
   "source": [
    "这时候我们可以来看初始的过程发生了什么了。记得我们可以通过`data`来访问参数值，它默认会返回CPU上值。但这里我们只在两个GPU上初始化了，在访问的对应设备的值的时候，我们需要指定设备。"
   ]
  },
  {
   "cell_type": "code",
   "execution_count": 3,
   "metadata": {},
   "outputs": [
    {
     "name": "stdout",
     "output_type": "stream",
     "text": [
      "\n",
      "[[[-0.00613896 -0.03968295  0.00958075]\n",
      "  [-0.05106945 -0.06736943 -0.02462026]\n",
      "  [ 0.01646897 -0.04904552  0.0156934 ]]]\n",
      "<NDArray 1x3x3 @gpu(0)>\n",
      "\n",
      "[[[-0.00613896 -0.03968295  0.00958075]\n",
      "  [-0.05106945 -0.06736943 -0.02462026]\n",
      "  [ 0.01646897 -0.04904552  0.0156934 ]]]\n",
      "<NDArray 1x3x3 @gpu(1)>\n",
      "Not initialized on cpu(0)\n"
     ]
    }
   ],
   "source": [
    "weight = net[1].params.get('weight')\n",
    "print(weight.data(ctx[0])[0])\n",
    "print(weight.data(ctx[1])[0])\n",
    "try:\n",
    "    weight.data(cpu())\n",
    "except:\n",
    "    print('Not initialized on', cpu())"
   ]
  },
  {
   "cell_type": "markdown",
   "metadata": {},
   "source": [
    "上一章我们提到过如何在多GPU之间复制梯度求和并广播，这个在`gluon.Trainer`里面会被默认执行。这样我们可以实现完整的训练函数了。\n",
    "\n",
    "## 训练"
   ]
  },
  {
   "cell_type": "code",
   "execution_count": 4,
   "metadata": {
    "attributes": {
     "classes": [],
     "id": "",
     "n": "7"
    }
   },
   "outputs": [],
   "source": [
    "from mxnet import gluon\n",
    "from mxnet import autograd\n",
    "from time import time\n",
    "from mxnet import init\n",
    "\n",
    "def train(num_gpus, batch_size, lr):\n",
    "    train_data, test_data = utils.load_data_fashion_mnist(batch_size)\n",
    "\n",
    "    ctx = [gpu(i) for i in range(num_gpus)]\n",
    "    print('Running on', ctx)\n",
    "\n",
    "    net = utils.resnet18(10)\n",
    "    net.initialize(init=init.Xavier(), ctx=ctx)\n",
    "    loss = gluon.loss.SoftmaxCrossEntropyLoss()\n",
    "    trainer = gluon.Trainer(\n",
    "        net.collect_params(),'sgd', {'learning_rate': lr})\n",
    "\n",
    "    for epoch in range(5):\n",
    "        start = time()\n",
    "        total_loss = 0\n",
    "        for data, label in train_data:\n",
    "            data_list = gluon.utils.split_and_load(data, ctx)\n",
    "            label_list = gluon.utils.split_and_load(label, ctx)\n",
    "            with autograd.record():\n",
    "                losses = [loss(net(X), y) for X, y in zip(\n",
    "                    data_list, label_list)]\n",
    "            for l in losses:\n",
    "                l.backward()\n",
    "            total_loss += sum([l.sum().asscalar() for l in losses])\n",
    "            trainer.step(batch_size)\n",
    "\n",
    "        nd.waitall()\n",
    "        print('Epoch %d, training time = %.1f sec'%(\n",
    "            epoch, time()-start))\n",
    "\n",
    "        test_acc = utils.evaluate_accuracy(test_data, net, ctx[0])\n",
    "        print('         validation accuracy = %.4f'%(test_acc))"
   ]
  },
  {
   "cell_type": "markdown",
   "metadata": {},
   "source": [
    "尝试在单GPU上执行。"
   ]
  },
  {
   "cell_type": "code",
   "execution_count": 5,
   "metadata": {},
   "outputs": [
    {
     "name": "stdout",
     "output_type": "stream",
     "text": [
      "Running on [gpu(0)]\n"
     ]
    },
    {
     "name": "stdout",
     "output_type": "stream",
     "text": [
      "Epoch 0, training time = 14.9 sec\n"
     ]
    },
    {
     "name": "stdout",
     "output_type": "stream",
     "text": [
      "         validation accuracy = 0.8815\n"
     ]
    },
    {
     "name": "stdout",
     "output_type": "stream",
     "text": [
      "Epoch 1, training time = 14.3 sec\n"
     ]
    },
    {
     "name": "stdout",
     "output_type": "stream",
     "text": [
      "         validation accuracy = 0.9019\n"
     ]
    },
    {
     "name": "stdout",
     "output_type": "stream",
     "text": [
      "Epoch 2, training time = 14.2 sec\n"
     ]
    },
    {
     "name": "stdout",
     "output_type": "stream",
     "text": [
      "         validation accuracy = 0.8972\n"
     ]
    },
    {
     "name": "stdout",
     "output_type": "stream",
     "text": [
      "Epoch 3, training time = 14.3 sec\n"
     ]
    },
    {
     "name": "stdout",
     "output_type": "stream",
     "text": [
      "         validation accuracy = 0.9137\n"
     ]
    },
    {
     "name": "stdout",
     "output_type": "stream",
     "text": [
      "Epoch 4, training time = 14.2 sec\n"
     ]
    },
    {
     "name": "stdout",
     "output_type": "stream",
     "text": [
      "         validation accuracy = 0.9052\n"
     ]
    }
   ],
   "source": [
    "train(1, 256, .1)\n"
   ]
  },
  {
   "cell_type": "markdown",
   "metadata": {},
   "source": [
    "同样的参数，但使用两个GPU。"
   ]
  },
  {
   "cell_type": "code",
   "execution_count": 6,
   "metadata": {},
   "outputs": [
    {
     "name": "stdout",
     "output_type": "stream",
     "text": [
      "Running on [gpu(0), gpu(1)]\n"
     ]
    },
    {
     "name": "stdout",
     "output_type": "stream",
     "text": [
      "Epoch 0, training time = 10.7 sec\n"
     ]
    },
    {
     "name": "stdout",
     "output_type": "stream",
     "text": [
      "         validation accuracy = 0.8804\n"
     ]
    },
    {
     "name": "stdout",
     "output_type": "stream",
     "text": [
      "Epoch 1, training time = 10.0 sec\n"
     ]
    },
    {
     "name": "stdout",
     "output_type": "stream",
     "text": [
      "         validation accuracy = 0.8921\n"
     ]
    },
    {
     "name": "stdout",
     "output_type": "stream",
     "text": [
      "Epoch 2, training time = 10.0 sec\n"
     ]
    },
    {
     "name": "stdout",
     "output_type": "stream",
     "text": [
      "         validation accuracy = 0.9030\n"
     ]
    },
    {
     "name": "stdout",
     "output_type": "stream",
     "text": [
      "Epoch 3, training time = 10.0 sec\n"
     ]
    },
    {
     "name": "stdout",
     "output_type": "stream",
     "text": [
      "         validation accuracy = 0.9146\n"
     ]
    },
    {
     "name": "stdout",
     "output_type": "stream",
     "text": [
      "Epoch 4, training time = 10.1 sec\n"
     ]
    },
    {
     "name": "stdout",
     "output_type": "stream",
     "text": [
      "         validation accuracy = 0.9163\n"
     ]
    }
   ],
   "source": [
    "train(2, 256, .1)"
   ]
  },
  {
   "cell_type": "markdown",
   "metadata": {},
   "source": [
    "增大批量值和学习率"
   ]
  },
  {
   "cell_type": "code",
   "execution_count": 7,
   "metadata": {},
   "outputs": [
    {
     "name": "stdout",
     "output_type": "stream",
     "text": [
      "Running on [gpu(0), gpu(1)]\n"
     ]
    },
    {
     "name": "stdout",
     "output_type": "stream",
     "text": [
      "Epoch 0, training time = 8.3 sec\n"
     ]
    },
    {
     "name": "stdout",
     "output_type": "stream",
     "text": [
      "         validation accuracy = 0.8637\n"
     ]
    },
    {
     "name": "stdout",
     "output_type": "stream",
     "text": [
      "Epoch 1, training time = 8.1 sec\n"
     ]
    },
    {
     "name": "stdout",
     "output_type": "stream",
     "text": [
      "         validation accuracy = 0.8852\n"
     ]
    },
    {
     "name": "stdout",
     "output_type": "stream",
     "text": [
      "Epoch 2, training time = 8.1 sec\n"
     ]
    },
    {
     "name": "stdout",
     "output_type": "stream",
     "text": [
      "         validation accuracy = 0.8945\n"
     ]
    },
    {
     "name": "stdout",
     "output_type": "stream",
     "text": [
      "Epoch 3, training time = 8.1 sec\n"
     ]
    },
    {
     "name": "stdout",
     "output_type": "stream",
     "text": [
      "         validation accuracy = 0.9018\n"
     ]
    },
    {
     "name": "stdout",
     "output_type": "stream",
     "text": [
      "Epoch 4, training time = 8.1 sec\n"
     ]
    },
    {
     "name": "stdout",
     "output_type": "stream",
     "text": [
      "         validation accuracy = 0.8970\n"
     ]
    }
   ],
   "source": [
    "train(2, 512, .2)"
   ]
  },
  {
   "cell_type": "markdown",
   "metadata": {},
   "source": [
    "## 结论\n",
    "\n",
    "Gluon的参数初始化和Trainer都支持多设备，从单设备到多设备非常容易。\n",
    "\n",
    "## 练习\n",
    "\n",
    "- 跟[多GPU来训练 --- 从0开始](./multiple-gpus-scratch.md)不一样，这里我们使用了更现代些的ResNet。看看不同的批量大小和学习率对不同GPU个数上的不一样。\n",
    "- 有时候各个设备计算能力不一样，例如同时使用CPU和GPU，或者GPU之间型号不一样，这时候应该怎么办？\n",
    "\n",
    "\n",
    "**吐槽和讨论欢迎点**[这里](https://discuss.gluon.ai/t/topic/1885)"
   ]
  }
 ],
 "metadata": {
  "language_info": {
   "name": "python"
  }
 },
 "nbformat": 4,
 "nbformat_minor": 2
}