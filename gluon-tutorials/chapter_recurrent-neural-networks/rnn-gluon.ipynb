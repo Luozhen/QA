{
 "cells": [
  {
   "cell_type": "markdown",
   "metadata": {},
   "source": [
    "# 循环神经网络 --- 使用Gluon\n",
    "\n",
    "本节介绍如何使用`Gluon`训练循环神经网络。\n",
    "\n",
    "\n",
    "## Penn Tree Bank (PTB) 数据集\n",
    "\n",
    "我们以单词为基本元素来训练语言模型。[Penn Tree Bank](https://catalog.ldc.upenn.edu/ldc99t42)（PTB）是一个标准的文本序列数据集。它包括训练集、验证集和测试集。\n",
    "\n",
    "下面我们载入数据集。"
   ]
  },
  {
   "cell_type": "code",
   "execution_count": 1,
   "metadata": {
    "attributes": {
     "classes": [],
     "id": "",
     "n": "1"
    },
    "collapsed": true
   },
   "outputs": [],
   "source": [
    "import math\n",
    "import os\n",
    "import time\n",
    "import numpy as np\n",
    "import mxnet as mx\n",
    "from mxnet import gluon, autograd\n",
    "from mxnet.gluon import nn, rnn\n",
    "\n",
    "import zipfile\n",
    "with zipfile.ZipFile('../data/ptb.zip', 'r') as zin:\n",
    "    zin.extractall('../data/')"
   ]
  },
  {
   "cell_type": "markdown",
   "metadata": {},
   "source": [
    "## 建立词语索引\n",
    "\n",
    "下面定义了`Dictionary`类来映射词语和索引。"
   ]
  },
  {
   "cell_type": "code",
   "execution_count": 2,
   "metadata": {
    "attributes": {
     "classes": [],
     "id": "",
     "n": "2"
    },
    "collapsed": true
   },
   "outputs": [],
   "source": [
    "class Dictionary(object):\n",
    "    def __init__(self):\n",
    "        self.word_to_idx = {}\n",
    "        self.idx_to_word = []\n",
    "\n",
    "    def add_word(self, word):\n",
    "        if word not in self.word_to_idx:\n",
    "            self.idx_to_word.append(word)\n",
    "            self.word_to_idx[word] = len(self.idx_to_word) - 1\n",
    "        return self.word_to_idx[word]\n",
    "\n",
    "    def __len__(self):\n",
    "        return len(self.idx_to_word)"
   ]
  },
  {
   "cell_type": "markdown",
   "metadata": {},
   "source": [
    "以下的`Corpus`类按照读取的文本数据集建立映射词语和索引的词典，并将文本转换成词语索引的序列。这样，每个文本数据集就变成了`NDArray`格式的整数序列。"
   ]
  },
  {
   "cell_type": "code",
   "execution_count": 3,
   "metadata": {
    "attributes": {
     "classes": [],
     "id": "",
     "n": "3"
    },
    "collapsed": true
   },
   "outputs": [],
   "source": [
    "class Corpus(object):\n",
    "    def __init__(self, path):\n",
    "        self.dictionary = Dictionary()\n",
    "        self.train = self.tokenize(path + 'train.txt')\n",
    "        self.valid = self.tokenize(path + 'valid.txt')\n",
    "        self.test = self.tokenize(path + 'test.txt')\n",
    "\n",
    "    def tokenize(self, path):\n",
    "        assert os.path.exists(path)\n",
    "        # 将词语添加至词典。\n",
    "        with open(path, 'r') as f:\n",
    "            tokens = 0\n",
    "            for line in f:\n",
    "                words = line.split() + ['<eos>']\n",
    "                tokens += len(words)\n",
    "                for word in words:\n",
    "                    self.dictionary.add_word(word)\n",
    "        # 将文本转换成词语索引的序列（NDArray格式）。\n",
    "        with open(path, 'r') as f:\n",
    "            indices = np.zeros((tokens,), dtype='int32')\n",
    "            idx = 0\n",
    "            for line in f:\n",
    "                words = line.split() + ['<eos>']\n",
    "                for word in words:\n",
    "                    indices[idx] = self.dictionary.word_to_idx[word]\n",
    "                    idx += 1\n",
    "        return mx.nd.array(indices, dtype='int32')"
   ]
  },
  {
   "cell_type": "markdown",
   "metadata": {},
   "source": [
    "看一下词典的大小。"
   ]
  },
  {
   "cell_type": "code",
   "execution_count": 4,
   "metadata": {
    "attributes": {
     "classes": [],
     "id": "",
     "n": "4"
    }
   },
   "outputs": [
    {
     "data": {
      "text/plain": [
       "10000"
      ]
     },
     "execution_count": 4,
     "metadata": {},
     "output_type": "execute_result"
    }
   ],
   "source": [
    "data = '../data/ptb/ptb.'\n",
    "corpus = Corpus(data)\n",
    "vocab_size = len(corpus.dictionary)\n",
    "vocab_size"
   ]
  },
  {
   "cell_type": "markdown",
   "metadata": {},
   "source": [
    "## 循环神经网络模型库\n",
    "\n",
    "我们可以定义一个循环神经网络模型库。这样就可以支持各种不同的循环神经网络模型了。"
   ]
  },
  {
   "cell_type": "code",
   "execution_count": 5,
   "metadata": {
    "attributes": {
     "classes": [],
     "id": "",
     "n": "5"
    },
    "collapsed": true
   },
   "outputs": [],
   "source": [
    "class RNNModel(gluon.Block):\n",
    "    \"\"\"循环神经网络模型库\"\"\"\n",
    "    def __init__(self, mode, vocab_size, embed_dim, hidden_dim,\n",
    "                 num_layers, dropout=0.5, **kwargs):\n",
    "        super(RNNModel, self).__init__(**kwargs)\n",
    "        with self.name_scope():\n",
    "            self.drop = nn.Dropout(dropout)\n",
    "            self.encoder = nn.Embedding(vocab_size, embed_dim,\n",
    "                                        weight_initializer=mx.init.Uniform(0.1))\n",
    "            if mode == 'rnn_relu':\n",
    "                self.rnn = rnn.RNN(hidden_dim, num_layers, activation='relu',\n",
    "                                   dropout=dropout, input_size=embed_dim)\n",
    "            elif mode == 'rnn_tanh':\n",
    "                self.rnn = rnn.RNN(hidden_dim, num_layers, dropout=dropout,\n",
    "                                   input_size=embed_dim)\n",
    "            elif mode == 'lstm':\n",
    "                self.rnn = rnn.LSTM(hidden_dim, num_layers, dropout=dropout,\n",
    "                                    input_size=embed_dim)\n",
    "            elif mode == 'gru':\n",
    "                self.rnn = rnn.GRU(hidden_dim, num_layers, dropout=dropout,\n",
    "                                   input_size=embed_dim)\n",
    "            else:\n",
    "                raise ValueError(\"Invalid mode %s. Options are rnn_relu, \"\n",
    "                                 \"rnn_tanh, lstm, and gru\"%mode)\n",
    "\n",
    "            self.decoder = nn.Dense(vocab_size, in_units=hidden_dim)\n",
    "            self.hidden_dim = hidden_dim\n",
    "\n",
    "    def forward(self, inputs, state):\n",
    "        emb = self.drop(self.encoder(inputs))\n",
    "        output, state = self.rnn(emb, state)\n",
    "        output = self.drop(output)\n",
    "        decoded = self.decoder(output.reshape((-1, self.hidden_dim)))\n",
    "        return decoded, state\n",
    "\n",
    "    def begin_state(self, *args, **kwargs):\n",
    "        return self.rnn.begin_state(*args, **kwargs)"
   ]
  },
  {
   "cell_type": "markdown",
   "metadata": {},
   "source": [
    "## 定义参数\n",
    "\n",
    "我们接着定义模型参数。我们选择使用ReLU为激活函数的循环神经网络为例。这里我们把`epochs`设为1是为了演示方便。\n",
    "\n",
    "\n",
    "## 多层循环神经网络\n",
    "\n",
    "我们通过`num_layers`设置循环神经网络隐含层的层数，例如2。\n",
    "\n",
    "对于一个多层循环神经网络，当前时刻隐含层的输入来自同一时刻输入层（如果有）或上一隐含层的输出。每一层的隐含状态只沿着同一层传递。\n",
    "\n",
    "把[单层循环神经网络](rnn-scratch.md)中隐含层的每个单元当做一个函数$f$，这个函数在$t$时刻的输入是$\\mathbf{X}_t, \\mathbf{H}_{t-1}$，输出是$\\mathbf{H}_t$：\n",
    "\n",
    "$$f(\\mathbf{X}_t, \\mathbf{H}_{t-1}) = \\mathbf{H}_t$$\n",
    "\n",
    "假设输入为第0层，输出为第$L+1$层，在一共$L$个隐含层的循环神经网络中，上式中可以拓展成以下的函数:\n",
    "\n",
    "$$f(\\mathbf{H}_t^{(l-1)}, \\mathbf{H}_{t-1}^{(l)}) = \\mathbf{H}_t^{(l)}$$\n",
    "\n",
    "如下图所示。\n",
    "\n",
    "![](../img/multi-layer-rnn.svg)"
   ]
  },
  {
   "cell_type": "code",
   "execution_count": 6,
   "metadata": {
    "attributes": {
     "classes": [],
     "id": "",
     "n": "6"
    },
    "collapsed": true
   },
   "outputs": [],
   "source": [
    "model_name = 'rnn_relu'\n",
    "\n",
    "embed_dim = 100\n",
    "hidden_dim = 100\n",
    "num_layers = 2\n",
    "lr = 1.0\n",
    "clipping_norm = 0.2\n",
    "epochs = 1\n",
    "batch_size = 32\n",
    "num_steps = 5\n",
    "dropout_rate = 0.2\n",
    "eval_period = 500"
   ]
  },
  {
   "cell_type": "markdown",
   "metadata": {},
   "source": [
    "## 批量采样\n",
    "\n",
    "我们将数据进一步处理为便于相邻批量采样的格式。"
   ]
  },
  {
   "cell_type": "code",
   "execution_count": 7,
   "metadata": {
    "attributes": {
     "classes": [],
     "id": "",
     "n": "7"
    },
    "collapsed": true
   },
   "outputs": [],
   "source": [
    "# 尝试使用GPU\n",
    "import sys\n",
    "sys.path.append('..')\n",
    "import utils\n",
    "context = utils.try_gpu()\n",
    "\n",
    "def batchify(data, batch_size):\n",
    "    \"\"\"数据形状 (num_batches, batch_size)\"\"\"\n",
    "    num_batches = data.shape[0] // batch_size\n",
    "    data = data[:num_batches * batch_size]\n",
    "    data = data.reshape((batch_size, num_batches)).T\n",
    "    return data\n",
    "\n",
    "train_data = batchify(corpus.train, batch_size).as_in_context(context)\n",
    "val_data = batchify(corpus.valid, batch_size).as_in_context(context)\n",
    "test_data = batchify(corpus.test, batch_size).as_in_context(context)\n",
    "\n",
    "model = RNNModel(model_name, vocab_size, embed_dim, hidden_dim,\n",
    "                       num_layers, dropout_rate)\n",
    "model.collect_params().initialize(mx.init.Xavier(), ctx=context)\n",
    "trainer = gluon.Trainer(model.collect_params(), 'sgd',\n",
    "                        {'learning_rate': lr, 'momentum': 0, 'wd': 0})\n",
    "loss = gluon.loss.SoftmaxCrossEntropyLoss()\n",
    "\n",
    "def get_batch(source, i):\n",
    "    seq_len = min(num_steps, source.shape[0] - 1 - i)\n",
    "    data = source[i : i + seq_len]\n",
    "    target = source[i + 1 : i + 1 + seq_len]\n",
    "    return data, target.reshape((-1,))"
   ]
  },
  {
   "cell_type": "markdown",
   "metadata": {},
   "source": [
    "## 从计算图分离隐含状态\n",
    "\n",
    "在模型训练的每次迭代中，当前批量序列的初始隐含状态来自上一个相邻批量序列的输出隐含状态。为了使模型参数的梯度计算只依赖当前的批量序列，从而减小每次迭代的计算开销，我们可以使用`detach`函数来将隐含状态从计算图分离出来。"
   ]
  },
  {
   "cell_type": "code",
   "execution_count": 8,
   "metadata": {
    "attributes": {
     "classes": [],
     "id": "",
     "n": "8"
    },
    "collapsed": true
   },
   "outputs": [],
   "source": [
    "def detach(state):\n",
    "    if isinstance(state, (tuple, list)):\n",
    "        state = [i.detach() for i in state]\n",
    "    else:\n",
    "        state = state.detach()\n",
    "    return state"
   ]
  },
  {
   "cell_type": "markdown",
   "metadata": {},
   "source": [
    "## 训练和评价模型\n",
    "\n",
    "和之前一样，我们定义模型评价函数。"
   ]
  },
  {
   "cell_type": "code",
   "execution_count": 9,
   "metadata": {
    "attributes": {
     "classes": [],
     "id": "",
     "n": "9"
    },
    "collapsed": true
   },
   "outputs": [],
   "source": [
    "def model_eval(data_source):\n",
    "    total_L = 0.0\n",
    "    ntotal = 0\n",
    "    hidden = model.begin_state(func = mx.nd.zeros, batch_size = batch_size,\n",
    "                               ctx=context)\n",
    "    for i in range(0, data_source.shape[0] - 1, num_steps):\n",
    "        data, target = get_batch(data_source, i)\n",
    "        output, hidden = model(data, hidden)\n",
    "        L = loss(output, target)\n",
    "        total_L += mx.nd.sum(L).asscalar()\n",
    "        ntotal += L.size\n",
    "    return total_L / ntotal"
   ]
  },
  {
   "cell_type": "markdown",
   "metadata": {},
   "source": [
    "最后，我们可以训练模型并在每个epoch评价模型在验证集上的结果。我们可以参考验证集上的结果调参。"
   ]
  },
  {
   "cell_type": "code",
   "execution_count": 10,
   "metadata": {
    "attributes": {
     "classes": [],
     "id": "",
     "n": "10"
    },
    "collapsed": true
   },
   "outputs": [],
   "source": [
    "def train():\n",
    "    for epoch in range(epochs):\n",
    "        total_L = 0.0\n",
    "        start_time = time.time()\n",
    "        hidden = model.begin_state(func = mx.nd.zeros, batch_size = batch_size,\n",
    "                                   ctx = context)\n",
    "        for ibatch, i in enumerate(range(0, train_data.shape[0] - 1, num_steps)):\n",
    "            data, target = get_batch(train_data, i)\n",
    "            # 从计算图分离隐含状态。\n",
    "            hidden = detach(hidden)\n",
    "            with autograd.record():\n",
    "                output, hidden = model(data, hidden)\n",
    "                L = loss(output, target)\n",
    "                L.backward()\n",
    "\n",
    "            grads = [i.grad(context) for i in model.collect_params().values()]\n",
    "            # 梯度裁剪。需要注意的是，这里的梯度是整个批量的梯度。\n",
    "            # 因此我们将clipping_norm乘以num_steps和batch_size。\n",
    "            gluon.utils.clip_global_norm(grads,\n",
    "                                         clipping_norm * num_steps * batch_size)\n",
    "\n",
    "            trainer.step(batch_size)\n",
    "            total_L += mx.nd.sum(L).asscalar()\n",
    "\n",
    "            if ibatch % eval_period == 0 and ibatch > 0:\n",
    "                cur_L = total_L / num_steps / batch_size / eval_period\n",
    "                print('[Epoch %d Batch %d] loss %.2f, perplexity %.2f' % (\n",
    "                    epoch + 1, ibatch, cur_L, math.exp(cur_L)))\n",
    "                total_L = 0.0\n",
    "\n",
    "        val_L = model_eval(val_data)\n",
    "\n",
    "        print('[Epoch %d] time cost %.2fs, validation loss %.2f, validation ' \n",
    "              'perplexity %.2f' % (epoch + 1, time.time() - start_time, val_L,\n",
    "                                   math.exp(val_L)))"
   ]
  },
  {
   "cell_type": "markdown",
   "metadata": {},
   "source": [
    "训练完模型以后，我们就可以在测试集上评价模型了。"
   ]
  },
  {
   "cell_type": "code",
   "execution_count": 11,
   "metadata": {
    "attributes": {
     "classes": [],
     "id": "",
     "n": "11"
    }
   },
   "outputs": [
    {
     "name": "stdout",
     "output_type": "stream",
     "text": [
      "[Epoch 1 Batch 500] loss 8.01, perplexity 3021.63\n",
      "[Epoch 1 Batch 1000] loss 6.41, perplexity 610.50\n",
      "[Epoch 1 Batch 1500] loss 6.21, perplexity 498.75\n",
      "[Epoch 1 Batch 2000] loss 6.14, perplexity 462.33\n",
      "[Epoch 1 Batch 2500] loss 6.03, perplexity 414.60\n",
      "[Epoch 1 Batch 3000] loss 5.92, perplexity 371.34\n",
      "[Epoch 1 Batch 3500] loss 5.93, perplexity 375.41\n",
      "[Epoch 1 Batch 4000] loss 5.80, perplexity 331.65\n",
      "[Epoch 1 Batch 4500] loss 5.79, perplexity 326.34\n",
      "[Epoch 1 Batch 5000] loss 5.78, perplexity 323.76\n",
      "[Epoch 1 Batch 5500] loss 5.79, perplexity 325.67\n",
      "[Epoch 1] time cost 46.34s, validation loss 5.68, validation perplexity 291.98\n",
      "Test loss 5.64, test perplexity 282.37\n"
     ]
    }
   ],
   "source": [
    "train()\n",
    "test_L = model_eval(test_data)\n",
    "print('Test loss %.2f, test perplexity %.2f' % (test_L, math.exp(test_L)))"
   ]
  },
  {
   "cell_type": "markdown",
   "metadata": {},
   "source": [
    "## 结论\n",
    "\n",
    "* 我们可以使用Gluon轻松训练各种不同的循环神经网络，并设置网络参数，例如网络的层数。\n",
    "* 训练迭代中需要将隐含状态从计算图中分离，使模型参数梯度计算只依赖当前的时序数据批量采样。\n",
    "\n",
    "\n",
    "## 练习\n",
    "\n",
    "* 调调参数（例如epochs、隐含层的层数、序列长度、隐含状态长度和学习率），看看对运行时间、训练集、验证集和测试集上perplexity造成的影响。\n",
    "\n",
    "**吐槽和讨论欢迎点**[这里](https://discuss.gluon.ai/t/topic/4089)"
   ]
  }
 ],
 "metadata": {
  "kernelspec": {
   "display_name": "Python 2",
   "language": "python",
   "name": "python2"
  },
  "language_info": {
   "codemirror_mode": {
    "name": "ipython",
    "version": 2
   },
   "file_extension": ".py",
   "mimetype": "text/x-python",
   "name": "python",
   "nbconvert_exporter": "python",
   "pygments_lexer": "ipython2",
   "version": "2.7.13"
  }
 },
 "nbformat": 4,
 "nbformat_minor": 2
}
