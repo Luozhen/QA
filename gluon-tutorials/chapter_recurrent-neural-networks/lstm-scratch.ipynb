{
 "cells": [
  {
   "cell_type": "markdown",
   "metadata": {},
   "source": [
    "# 长短期记忆（LSTM）--- 从0开始\n",
    "\n",
    "[上一节](bptt.md)中，我们介绍了循环神经网络中的梯度计算方法。我们发现，循环神经网络的隐含层变量梯度可能会出现衰减或爆炸。虽然[梯度裁剪](rnn-scratch.md)可以应对梯度爆炸，但无法解决梯度衰减的问题。因此，给定一个时间序列，例如文本序列，循环神经网络在实际中其实较难捕捉两个时刻距离较大的文本元素（字或词）之间的依赖关系。\n",
    "\n",
    "为了更好地捕捉时序数据中间隔较大的依赖关系，我们介绍了一种常用的门控循环神经网络，叫做[门控循环单元](gru-scratch.md)。本节将介绍另一种常用的门控循环神经网络，长短期记忆（long short-term memory，简称LSTM）。它由Hochreiter和Schmidhuber在1997年被提出。事实上，它比门控循环单元的结构稍微更复杂一点。\n",
    "\n",
    "\n",
    "## 长短期记忆\n",
    "\n",
    "我们先介绍长短期记忆的构造。长短期记忆的隐含状态包括隐含层变量$\\mathbf{H}$和细胞$\\mathbf{C}$（也称记忆细胞）。它们形状相同。\n",
    "\n",
    "\n",
    "### 输入门、遗忘门和输出门\n",
    "\n",
    "\n",
    "假定隐含状态长度为$h$，给定时刻$t$的一个样本数为$n$特征向量维度为$x$的批量数据$\\mathbf{X}_t \\in \\mathbb{R}^{n \\times x}$和上一时刻隐含状态$\\mathbf{H}_{t-1} \\in \\mathbb{R}^{n \\times h}$，输入门（input gate）$\\mathbf{I}_t \\in \\mathbb{R}^{n \\times h}$、遗忘门（forget gate）$\\mathbf{F}_t \\in \\mathbb{R}^{n \\times h}$和输出门（output gate）$\\mathbf{O}_t \\in \\mathbb{R}^{n \\times h}$的定义如下：\n",
    "\n",
    "$$\\mathbf{I}_t = \\sigma(\\mathbf{X}_t \\mathbf{W}_{xi} + \\mathbf{H}_{t-1} \\mathbf{W}_{hi} + \\mathbf{b}_i)$$\n",
    "\n",
    "$$\\mathbf{F}_t = \\sigma(\\mathbf{X}_t \\mathbf{W}_{xf} + \\mathbf{H}_{t-1} \\mathbf{W}_{hf} + \\mathbf{b}_f)$$\n",
    "\n",
    "$$\\mathbf{O}_t = \\sigma(\\mathbf{X}_t \\mathbf{W}_{xo} + \\mathbf{H}_{t-1} \\mathbf{W}_{ho} + \\mathbf{b}_o)$$\n",
    "\n",
    "其中的$\\mathbf{W}_{xi}, \\mathbf{W}_{xf}, \\mathbf{W}_{xo} \\in \\mathbb{R}^{x \\times h}$和$\\mathbf{W}_{hi}, \\mathbf{W}_{hf}, \\mathbf{W}_{ho} \\in \\mathbb{R}^{h \\times h}$是可学习的权重参数，$\\mathbf{b}_i, \\mathbf{b}_f, \\mathbf{b}_o \\in \\mathbb{R}^{1 \\times h}$是可学习的偏移参数。函数$\\sigma$自变量中的三项相加使用了[广播](../chapter_crashcourse/ndarray.md)。\n",
    "\n",
    "和[门控循环单元](gru-scratch.md)中的重置门和更新门一样，这里的输入门、遗忘门和输出门中每个元素的值域都是$[0, 1]$。\n",
    "\n",
    "\n",
    "### 候选细胞\n",
    "\n",
    "和[门控循环单元](gru-scratch.md)中的候选隐含状态一样，长短期记忆中的候选细胞$\\tilde{\\mathbf{C}}_t \\in \\mathbb{R}^{n \\times h}$也使用了值域在$[-1, 1]$的双曲正切函数tanh做激活函数：\n",
    "\n",
    "$$\\tilde{\\mathbf{C}}_t = \\text{tanh}(\\mathbf{X}_t \\mathbf{W}_{xc} + \\mathbf{H}_{t-1} \\mathbf{W}_{hc} + \\mathbf{b}_c)$$\n",
    "\n",
    "其中的$\\mathbf{W}_{xc} \\in \\mathbb{R}^{x \\times h}$和$\\mathbf{W}_{hc} \\in \\mathbb{R}^{h \\times h}$是可学习的权重参数，$\\mathbf{b}_c \\in \\mathbb{R}^{1 \\times h}$是可学习的偏移参数。\n",
    "\n",
    "\n",
    "### 细胞\n",
    "\n",
    "我们可以通过元素值域在$[0, 1]$的输入门、遗忘门和输出门来控制隐含状态中信息的流动：这通常可以应用按元素乘法符$\\odot$。当前时刻细胞$\\mathbf{C}_t \\in \\mathbb{R}^{n \\times h}$的计算组合了上一时刻细胞和当前时刻候选细胞的信息，并通过遗忘门和输入门来控制信息的流动：\n",
    "\n",
    "$$\\mathbf{C}_t = \\mathbf{F}_t \\odot \\mathbf{C}_{t-1} + \\mathbf{I}_t \\odot \\tilde{\\mathbf{C}}_t$$\n",
    "\n",
    "需要注意的是，如果遗忘门一直近似1且输入门一直近似0，过去的细胞将一直通过时间保存并传递至当前时刻。这个设计可以应对循环神经网络中的梯度衰减问题，并更好地捕捉时序数据中间隔较大的依赖关系。\n",
    "\n",
    "\n",
    "### 隐含状态\n",
    "\n",
    "有了细胞以后，接下来我们还可以通过输出门来控制从细胞到隐含层变量$\\mathbf{H}_t \\in \\mathbb{R}^{n \\times h}$的信息的流动：\n",
    "\n",
    "$$\\mathbf{H}_t = \\mathbf{O}_t \\odot \\text{tanh}(\\mathbf{C}_t)$$\n",
    "\n",
    "需要注意的是，当输出门近似1，细胞信息将传递到隐含层变量；当输出门近似0，细胞信息只自己保留。\n",
    "\n",
    "\n",
    "\n",
    "输出层的设计可参照[循环神经网络](rnn-scratch.md)中的描述。\n",
    "\n",
    "\n",
    "## 实验\n",
    "\n",
    "\n",
    "为了实现并展示门控循环单元，我们依然使用周杰伦歌词数据集来训练模型作词。这里除长短期记忆以外的实现已在[循环神经网络](rnn-scratch.md)中介绍。\n",
    "\n",
    "\n",
    "### 数据处理\n",
    "\n",
    "我们先读取并对数据集做简单处理。"
   ]
  },
  {
   "cell_type": "code",
   "execution_count": 1,
   "metadata": {
    "attributes": {
     "classes": [],
     "id": "",
     "n": "1"
    }
   },
   "outputs": [
    {
     "name": "stdout",
     "output_type": "stream",
     "text": [
      "('vocab size:', 116)\n"
     ]
    }
   ],
   "source": [
    "import zipfile\n",
    "with zipfile.ZipFile('../data/jaychou_lyrics.txt.zip', 'r') as zin:\n",
    "    zin.extractall('../data/')\n",
    "\n",
    "with open('../../AQ_luozhen/data/tnb.txt') as f:\n",
    "    corpus_chars = f.read()\n",
    "\n",
    "corpus_chars = corpus_chars.replace('\\n', ' ').replace('\\r', ' ')\n",
    "corpus_chars = corpus_chars[0:20000]\n",
    "\n",
    "idx_to_char = list(set(corpus_chars))\n",
    "char_to_idx = dict([(char, i) for i, char in enumerate(idx_to_char)])\n",
    "corpus_indices = [char_to_idx[char] for char in corpus_chars]\n",
    "\n",
    "vocab_size = len(char_to_idx)\n",
    "print('vocab size:', vocab_size)"
   ]
  },
  {
   "cell_type": "markdown",
   "metadata": {},
   "source": [
    "我们使用onehot来将字符索引表示成向量。"
   ]
  },
  {
   "cell_type": "code",
   "execution_count": 2,
   "metadata": {
    "attributes": {
     "classes": [],
     "id": "",
     "n": "2"
    },
    "collapsed": true
   },
   "outputs": [],
   "source": [
    "def get_inputs(data):\n",
    "    return [nd.one_hot(X, vocab_size) for X in data.T]"
   ]
  },
  {
   "cell_type": "markdown",
   "metadata": {},
   "source": [
    "### 初始化模型参数\n",
    "\n",
    "以下部分对模型参数进行初始化。参数`hidden_dim`定义了隐含状态的长度。"
   ]
  },
  {
   "cell_type": "code",
   "execution_count": 3,
   "metadata": {
    "attributes": {
     "classes": [],
     "id": "",
     "n": "3"
    }
   },
   "outputs": [
    {
     "name": "stdout",
     "output_type": "stream",
     "text": [
      "('Will use', cpu(0))\n"
     ]
    }
   ],
   "source": [
    "import mxnet as mx\n",
    "\n",
    "# 尝试使用GPU\n",
    "import sys\n",
    "sys.path.append('..')\n",
    "from mxnet import nd\n",
    "import utils\n",
    "ctx = utils.try_gpu()\n",
    "print('Will use', ctx)\n",
    "\n",
    "input_dim = vocab_size\n",
    "# 隐含状态长度\n",
    "hidden_dim = 256\n",
    "output_dim = vocab_size\n",
    "std = .01\n",
    "\n",
    "def get_params():\n",
    "    # 输入门参数\n",
    "    W_xi = nd.random_normal(scale=std, shape=(input_dim, hidden_dim), ctx=ctx)\n",
    "    W_hi = nd.random_normal(scale=std, shape=(hidden_dim, hidden_dim), ctx=ctx)\n",
    "    b_i = nd.zeros(hidden_dim, ctx=ctx)\n",
    "    \n",
    "    # 遗忘门参数\n",
    "    W_xf = nd.random_normal(scale=std, shape=(input_dim, hidden_dim), ctx=ctx)\n",
    "    W_hf = nd.random_normal(scale=std, shape=(hidden_dim, hidden_dim), ctx=ctx)\n",
    "    b_f = nd.zeros(hidden_dim, ctx=ctx)\n",
    "    \n",
    "    # 输出门参数\n",
    "    W_xo = nd.random_normal(scale=std, shape=(input_dim, hidden_dim), ctx=ctx)\n",
    "    W_ho = nd.random_normal(scale=std, shape=(hidden_dim, hidden_dim), ctx=ctx)\n",
    "    b_o = nd.zeros(hidden_dim, ctx=ctx)\n",
    "\n",
    "    # 候选细胞参数\n",
    "    W_xc = nd.random_normal(scale=std, shape=(input_dim, hidden_dim), ctx=ctx)\n",
    "    W_hc = nd.random_normal(scale=std, shape=(hidden_dim, hidden_dim), ctx=ctx)\n",
    "    b_c = nd.zeros(hidden_dim, ctx=ctx)\n",
    "\n",
    "    # 输出层\n",
    "    W_hy = nd.random_normal(scale=std, shape=(hidden_dim, output_dim), ctx=ctx)\n",
    "    b_y = nd.zeros(output_dim, ctx=ctx)\n",
    "\n",
    "    params = [W_xi, W_hi, b_i, W_xf, W_hf, b_f, W_xo, W_ho, b_o, W_xc, W_hc,\n",
    "              b_c, W_hy, b_y]\n",
    "    for param in params:\n",
    "        param.attach_grad()\n",
    "    return params"
   ]
  },
  {
   "cell_type": "markdown",
   "metadata": {},
   "source": [
    "## 定义模型\n",
    "\n",
    "我们将前面的模型公式翻译成代码。"
   ]
  },
  {
   "cell_type": "code",
   "execution_count": 4,
   "metadata": {
    "attributes": {
     "classes": [],
     "id": "",
     "n": "4"
    },
    "collapsed": true
   },
   "outputs": [],
   "source": [
    "def lstm_rnn(inputs, state_h, state_c, *params):\n",
    "    # inputs: num_steps 个尺寸为 batch_size * vocab_size 矩阵\n",
    "    # H: 尺寸为 batch_size * hidden_dim 矩阵\n",
    "    # outputs: num_steps 个尺寸为 batch_size * vocab_size 矩阵\n",
    "    [W_xi, W_hi, b_i, W_xf, W_hf, b_f, W_xo, W_ho, b_o, W_xc, W_hc, b_c,\n",
    "     W_hy, b_y] = params\n",
    "\n",
    "    H = state_h\n",
    "    C = state_c\n",
    "    outputs = []\n",
    "    for X in inputs:        \n",
    "        I = nd.sigmoid(nd.dot(X, W_xi) + nd.dot(H, W_hi) + b_i)\n",
    "        F = nd.sigmoid(nd.dot(X, W_xf) + nd.dot(H, W_hf) + b_f)\n",
    "        O = nd.sigmoid(nd.dot(X, W_xo) + nd.dot(H, W_ho) + b_o)\n",
    "        C_tilda = nd.tanh(nd.dot(X, W_xc) + nd.dot(H, W_hc) + b_c)\n",
    "        C = F * C + I * C_tilda\n",
    "        H = O * nd.tanh(C)\n",
    "        Y = nd.dot(H, W_hy) + b_y\n",
    "        outputs.append(Y)\n",
    "    return (outputs, H, C)"
   ]
  },
  {
   "cell_type": "markdown",
   "metadata": {},
   "source": [
    "### 训练模型\n",
    "\n",
    "下面我们开始训练模型。我们假定谱写歌词的前缀分别为“分开”、“不分开”和“战争中部队”。这里采用的是相邻批量采样实验门控循环单元谱写歌词。"
   ]
  },
  {
   "cell_type": "code",
   "execution_count": 7,
   "metadata": {
    "attributes": {
     "classes": [],
     "id": "",
     "n": "5"
    }
   },
   "outputs": [
    {
     "name": "stdout",
     "output_type": "stream",
     "text": [
      "Epoch 20. Training perplexity 4.458145\n",
      " -  糖尿病是什么类型糖尿病，如果吗分超过70%，可最自分血糖凍生的糖尿病学型糖尿病，如�\n",
      " -  1型糖尿病，如果吗分超过70%，可最自分血糖凍生的糖尿病学型糖尿病，如果吗分超过70\n",
      " -  身体是如何消化糖份的孺因糖尿病学型糖尿病，如果吗分超过70%，可最自分血糖凍生的糖尿病学型�\n",
      "\n",
      "\n",
      "Epoch 40. Training perplexity 1.802068\n",
      " -  糖尿病是什么失了制逎要徥康饮食，经常运动了基因低降当多人体是了，如果同卵双胞胎�\n",
      " -  1型糖尿病，那么发一个歉秀不多了分需要减荢医有规律多少“关于糖尿病分中个同你�\n",
      " -  身体是如何消化糖份的一个有糖尿病并发症不是礭时糖尿病即使山从是这不同是的孩子会妊娠体最�\n",
      "\n",
      "\n",
      "Epoch 60. Training perplexity 1.303458\n",
      " -  糖尿病是什么失性低低或了解了或的基因类型，不疫不家有秔的最会是最凍的的基因类型�\n",
      " -  1型糖尿病，那么患糖尿病（可以是胰岛素抵抗为需要胰岛素。胰岛素治疗通过直接升�\n",
      " -  身体是如何消化糖份的一个有糖尿病（可以减少发展成糖尿病有帮助吗？ 运动对2�糖尿病分型   糖�\n",
      "\n",
      "\n",
      "Epoch 80. Training perplexity 1.170352\n",
      " -  糖尿病是什么是以重。 要想查体有关系的是MHC蛋白最容易和哪些抗原或蛋牽，捇物宺其他�\n",
      " -  1型糖尿病是一种基因型态，糖尿病可分为不同的类型。根据噽础糖尿病或因。 1型糖尿\n",
      " -  身体是如何消化糖份的什疾患  肾脏星伤或肾功能衰竭   神经痛或神经损伤   心脏和询医生会患有1�\n",
      "\n",
      "\n",
      "Epoch 100. Training perplexity 1.125587\n",
      " -  糖尿病是什么一个孉全地发类在。所以，建议常规筛查以早期发现和治疗并发症， 以防脏�\n",
      " -  1型糖尿病（ß-细胞损伤，通常至少三代以上，多个家族成员也患有糖尿病。并且在年�\n",
      " -  身体是如何消化糖份的不药中不点在了食性就釚为遻倠有又种途治疗揯胰岛素分泌不足为主而合并�\n",
      "\n",
      "\n",
      "Epoch 120. Training perplexity 1.094150\n",
      " -  糖尿病是什么失合的的治疗包括：   控制高血压  控制胆固醇和甘油三酯水平   控制体重   \n",
      " -  1型糖尿病： 包含代不明了，但是据适低顀如在控并重胰丛素个胰岛素的需要被减缓或�\n",
      " -  身体是如何消化糖份的宺兰与天或体用药物来控制血糖。当你改变饮食结构时，要咨询你仺定其两�\n",
      "\n",
      "\n",
      "Epoch 140. Training perplexity 1.085930\n",
      " -  糖尿病是什么安全作失体人需要一天至少四次胰岛素注射。 当然，胰岛素泵或 连续皮下胰\n",
      " -  1型糖尿病? 2型糖尿病可以治愈吗？如果我的血糖正常了，我还有糖尿病吗？ 2型糖尿病\n",
      " -  身体是如何消化糖份的原因，如倠动三不同的类型。根据导致糖尿病的不同病因，治疗也会有所不�\n",
      "\n",
      "\n",
      "Epoch 160. Training perplexity 1.073099\n",
      " -  糖尿病是什么有关，但只有3%–6% 1型糖尿病患者的孩子发展成糖尿病。风险度与患糖尿病�\n",
      " -  1型糖尿病分型   糖尿病的定义是血糖升高。 如果在不治疗的情况下血糖正常，那么可�\n",
      " -  身体是如何消化糖份的厍子强这个为筘有关。你的药物治疗，又称联合用药，在糖尿病治疗中很常�\n",
      "\n",
      "\n",
      "Epoch 180. Training perplexity 1.067608\n",
      " -  糖尿病是什么家发症。如果发现血糖异常，要尽快咨询医生。 我有1型糖尿病，需要监测血\n",
      " -  1型糖尿病： 指身体完全丧失了制造胰岛素的能力，或只能制造极少量的胰岛素。  返�\n",
      " -  身体是如何消化糖份的学孕。 如果为不能通过控制饮食，减肥和运动来控制血糖，那么下一步的治�\n",
      "\n",
      "\n",
      "Epoch 200. Training perplexity 1.060511\n",
      " -  糖尿病是什么完。如果很卵双胞胎有一个患2型糖尿病，那么另一个有75%的可能性也会罻患�\n",
      " -  1型糖尿病患者，首先需要健康饮食,，然后经常运动, 减去多余体重。如果同卵双胞胎�\n",
      " -  身体是如何消化糖份的使的机变（减肥，健康饮食和运动）是最有效的方法。  返回顶部  我有2型糖\n",
      "\n",
      "\n",
      "Epoch 220. Training perplexity 1.058459\n",
      " -  糖尿病是什么类型的糖尿病。 在这一节里，你会了解：  1型糖尿病： 指身体完全丧失了制\n",
      " -  1型糖尿病患者，不是有DR3就是有DR4单倍体，但是普通人群中，也有40％的人存在这两个\n",
      " -  身体是如何消化糖份的运动和减肥，也能减缓或预防2型糖尿病的发生，生活方式的改变还不足以控�\n",
      "\n",
      "\n",
      "Epoch 240. Training perplexity 1.049758\n",
      " -  糖尿病是什么安全圉觫律，减谞和运动来控制血糖，那么下一步的治疗就是口服或注射降�\n",
      " -  1型糖尿病分与需要多种药物来控制血糖。当你改变饮食结构时，要咨询你的医生以调�\n",
      " -  身体是如何消化糖份的保恣些患糖尿病。 自我测验 自我测验 包括本网页内容，要了解你掌握了多�\n",
      "\n",
      "\n",
      "Epoch 260. Training perplexity 1.049351\n",
      " -  糖尿病是什么大类型有：  DR4 DQB1*030202） DR� 和运动，对导减炆增强运动来控制血糖，不尿�\n",
      " -  1型糖尿病通常由自身免疫引起，就帍说饽，多不完族成员也患有糖尿病。并且在年轻�\n",
      " -  身体是如何消化糖份的季子了。你需要坚持治疗，不然血糖的是，一些MHC基因，如HLA – DR2，DQB1* 060\n",
      "\n",
      "\n",
      "Epoch 280. Training perplexity 1.046770\n",
      " -  糖尿病是什么类殹庆。如果发现血糖异常，要尽快咨询医生制定锻炼方案。 如果不吃糖和�\n",
      " -  1型糖尿病患者同时有高脂血症（高甘油三酯和高胆固醇）及高血压症，所以要同时服�\n",
      " -  身体是如何消化糖份的什以控制血糖，预防糖尿病对眼睛，肾脏和神经的严重损害。如果发现血糖�\n",
      "\n",
      "\n",
      "Epoch 300. Training perplexity 1.043845\n",
      " -  糖尿病是什么类型的糖尿病。 在这一节里，你会了解：  1型糖尿病通常由自身免疫引起，�\n",
      " -  1型糖尿病可以治愈吗？如果我的血糖正常了，我还有糖尿病吗？ 2型糖尿病是一种基因\n",
      " -  身体是如何消化糖份的了解您患有什么类型的糖尿病。 在这一节里，你会了解：  1型糖尿病通常由�\n",
      "\n",
      "\n"
     ]
    }
   ],
   "source": [
    "seq1 = '糖尿病是什么'\n",
    "seq2 = '1型糖尿病'\n",
    "seq3 = '身体是如何消化糖份的'\n",
    "seqs = [seq1, seq2, seq3]\n",
    "\n",
    "utils.train_and_predict_rnn(rnn=lstm_rnn, is_random_iter=False, epochs=300,\n",
    "                            num_steps=35, hidden_dim=hidden_dim, \n",
    "                            learning_rate=0.5, clipping_norm=5,\n",
    "                            batch_size=32, pred_period=20, pred_len=50,\n",
    "                            seqs=seqs, get_params=get_params,\n",
    "                            get_inputs=get_inputs, ctx=ctx,\n",
    "                            corpus_indices=corpus_indices,\n",
    "                            idx_to_char=idx_to_char, char_to_idx=char_to_idx,\n",
    "                            is_lstm=True)"
   ]
  },
  {
   "cell_type": "markdown",
   "metadata": {},
   "source": [
    "可以看到一开始学到简单的字符，然后简单的词，接着是复杂点的词，然后看上去似乎像个句子了。\n",
    "\n",
    "## 结论\n",
    "\n",
    "* 长短期记忆的提出是为了更好地捕捉时序数据中间隔较大的依赖关系。\n",
    "* 长短期记忆的结构比门控循环单元的结构较复杂。\n",
    "\n",
    "\n",
    "## 练习\n",
    "\n",
    "* 调调参数（例如数据集大小、序列长度、隐含状态长度和学习率），看看对运行时间、perplexity和预测的结果造成的影响。\n",
    "* 在相同条件下，比较长短期记忆和门控循环单元以及循环神经网络的运行效率。\n",
    "\n",
    "**吐槽和讨论欢迎点**[这里](https://discuss.gluon.ai/t/topic/4042)"
   ]
  }
 ],
 "metadata": {
  "kernelspec": {
   "display_name": "Python 2",
   "language": "python",
   "name": "python2"
  },
  "language_info": {
   "codemirror_mode": {
    "name": "ipython",
    "version": 2
   },
   "file_extension": ".py",
   "mimetype": "text/x-python",
   "name": "python",
   "nbconvert_exporter": "python",
   "pygments_lexer": "ipython2",
   "version": "2.7.13"
  }
 },
 "nbformat": 4,
 "nbformat_minor": 2
}
