{
 "cells": [
  {
   "cell_type": "markdown",
   "metadata": {},
   "source": [
    "# RNN \n",
    "包含隐含层的前一时刻结果一起作为输出层的输入加入计算"
   ]
  },
  {
   "cell_type": "code",
   "execution_count": 2,
   "metadata": {},
   "outputs": [
    {
     "name": "stdout",
     "output_type": "stream",
     "text": [
      "想要有直升机\n",
      "想要和你飞到宇宙去\n",
      "想要和你融化在一起\n",
      "融化在宇宙里\n",
      "我每\n",
      "175267 <type 'str'>\n"
     ]
    }
   ],
   "source": [
    "import zipfile\n",
    "# with zipfile.ZipFile('jaychou_lyrics.txt.zip', 'r') as zin:\n",
    "#     zin.extractall('')\n",
    "\n",
    "with open('jaychou_lyrics.txt') as f:\n",
    "    corpus_chars = f.read()\n",
    "print corpus_chars[0:100]\n",
    "print len(corpus_chars), type(corpus_chars)"
   ]
  },
  {
   "cell_type": "code",
   "execution_count": 3,
   "metadata": {
    "collapsed": true
   },
   "outputs": [],
   "source": [
    "# 换行符替换\n",
    "corpus_chars = corpus_chars.replace('\\n', ' ').replace('\\r', ' ')\n",
    "corpus_chars = corpus_chars[0:20000]"
   ]
  },
  {
   "cell_type": "code",
   "execution_count": 4,
   "metadata": {},
   "outputs": [
    {
     "name": "stdout",
     "output_type": "stream",
     "text": [
      "88\n"
     ]
    }
   ],
   "source": [
    "idx_to_char = list(set(corpus_chars))\n",
    "char_to_idx = dict([(char, i) for i, char in enumerate(idx_to_char)])\n",
    "\n",
    "vocab_size = len(char_to_idx)\n",
    "print vocab_size"
   ]
  },
  {
   "cell_type": "code",
   "execution_count": 7,
   "metadata": {},
   "outputs": [
    {
     "name": "stdout",
     "output_type": "stream",
     "text": [
      "chars: \n",
      "想要有直升机 想要和你飞到宇\n",
      "\n",
      "indices: \n",
      "[85, 0, 13, 40, 74, 41, 85, 27, 43, 18, 6, 33, 62, 44, 1, 85, 27, 80, 8, 85, 0, 13, 40, 74, 41, 62, 69, 23, 39, 57, 28, 63, 9, 72, 62, 22, 32, 62, 77, 1]\n"
     ]
    }
   ],
   "source": [
    "corpus_indices = [char_to_idx[char] for char in corpus_chars]\n",
    "\n",
    "sample = corpus_indices[:40]\n",
    "\n",
    "print 'chars: \\n', ''.join([idx_to_char[idx] for idx in sample])\n",
    "print '\\nindices: \\n', sample"
   ]
  },
  {
   "cell_type": "code",
   "execution_count": 35,
   "metadata": {
    "collapsed": true
   },
   "outputs": [],
   "source": [
    "## 时序数据的批量采样"
   ]
  },
  {
   "cell_type": "code",
   "execution_count": 31,
   "metadata": {},
   "outputs": [],
   "source": [
    "## 随机批量采样\n",
    "import random\n",
    "from mxnet import nd\n",
    "\n",
    "def data_iter_random(corpus_indices, batch_size, sample_size, epoch_size):\n",
    "    def _data(pos):\n",
    "        return corpus_indices[pos:pos + sample_size]\n",
    "    \n",
    "    len_corpus = len(corpus_indices)\n",
    "    max_iter_idx = len_corpus - sample_size - 1\n",
    "    for epoch in range(epoch_size):\n",
    "        start_idx_samples = [random.randint(0, max_iter_idx) for batch_idx in range(batch_size)]\n",
    "        start_idx_labels = [idx + 1 for idx in start_idx_samples]\n",
    "        x = nd.array([_data(pos) for pos in start_idx_samples])\n",
    "        label = nd.array([_data(pos) for pos in start_idx_labels])\n",
    "        yield x, label"
   ]
  },
  {
   "cell_type": "code",
   "execution_count": 34,
   "metadata": {},
   "outputs": [
    {
     "name": "stdout",
     "output_type": "stream",
     "text": [
      "data:  \n",
      "[[  4.   5.   6.]\n",
      " [  8.   9.  10.]\n",
      " [ 18.  19.  20.]\n",
      " [ 24.  25.  26.]]\n",
      "<NDArray 4x3 @cpu(0)> \n",
      "label: \n",
      "[[  5.   6.   7.]\n",
      " [  9.  10.  11.]\n",
      " [ 19.  20.  21.]\n",
      " [ 25.  26.  27.]]\n",
      "<NDArray 4x3 @cpu(0)> \n",
      "\n",
      "data:  \n",
      "[[  1.   2.   3.]\n",
      " [  0.   1.   2.]\n",
      " [ 24.  25.  26.]\n",
      " [  5.   6.   7.]]\n",
      "<NDArray 4x3 @cpu(0)> \n",
      "label: \n",
      "[[  2.   3.   4.]\n",
      " [  1.   2.   3.]\n",
      " [ 25.  26.  27.]\n",
      " [  6.   7.   8.]]\n",
      "<NDArray 4x3 @cpu(0)> \n",
      "\n",
      "data:  \n",
      "[[  0.   1.   2.]\n",
      " [ 23.  24.  25.]\n",
      " [ 20.  21.  22.]\n",
      " [  0.   1.   2.]]\n",
      "<NDArray 4x3 @cpu(0)> \n",
      "label: \n",
      "[[  1.   2.   3.]\n",
      " [ 24.  25.  26.]\n",
      " [ 21.  22.  23.]\n",
      " [  1.   2.   3.]]\n",
      "<NDArray 4x3 @cpu(0)> \n",
      "\n"
     ]
    }
   ],
   "source": [
    "my_seq = range(30)\n",
    "for data, label in data_iter_random(my_seq, batch_size=4, sample_size=3, epoch_size=3):\n",
    "    print 'data: ', data, '\\nlabel:', label, '\\n'"
   ]
  },
  {
   "cell_type": "code",
   "execution_count": null,
   "metadata": {
    "collapsed": true
   },
   "outputs": [],
   "source": [
    "## 相邻批量采样\n",
    "def data_iter_consecutive():\n",
    "    pass"
   ]
  },
  {
   "cell_type": "code",
   "execution_count": null,
   "metadata": {
    "collapsed": true
   },
   "outputs": [],
   "source": [
    "def train_and_predict():\n",
    "    epoch_num\n",
    "    for epoch in range(epoch_num):\n",
    "        data, label = get_input()\n",
    "        \n",
    "    pass"
   ]
  }
 ],
 "metadata": {
  "kernelspec": {
   "display_name": "Python 2",
   "language": "python",
   "name": "python2"
  },
  "language_info": {
   "codemirror_mode": {
    "name": "ipython",
    "version": 2
   },
   "file_extension": ".py",
   "mimetype": "text/x-python",
   "name": "python",
   "nbconvert_exporter": "python",
   "pygments_lexer": "ipython2",
   "version": "2.7.13"
  }
 },
 "nbformat": 4,
 "nbformat_minor": 2
}
