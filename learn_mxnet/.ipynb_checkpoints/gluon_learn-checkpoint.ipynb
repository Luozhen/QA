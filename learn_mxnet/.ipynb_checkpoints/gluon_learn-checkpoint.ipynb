{
 "cells": [
  {
   "cell_type": "code",
   "execution_count": 12,
   "metadata": {},
   "outputs": [
    {
     "name": "stdout",
     "output_type": "stream",
     "text": [
      "Sequential(\n",
      "  (0): Dense(None -> 256, Activation(relu))\n",
      "  (1): Dense(None -> 10, linear)\n",
      ")\n"
     ]
    }
   ],
   "source": [
    "from mxnet import gluon\n",
    "from mxnet.gluon import nn\n",
    "from mxnet import nd\n",
    "\n",
    "net = gluon.nn.Sequential()\n",
    "with net.name_scope():\n",
    "    net.add(nn.Dense(256, activation=\"relu\"))\n",
    "    net.add(nn.Dense(10))\n",
    "print net"
   ]
  },
  {
   "cell_type": "code",
   "execution_count": 6,
   "metadata": {
    "collapsed": true
   },
   "outputs": [],
   "source": [
    "class MLP(nn.Block):\n",
    "    def __init__(self, **kwargs):\n",
    "        super(MLP, self).__init__(**kwargs)\n",
    "        with self.name_scope():\n",
    "            self.dense0 = nn.Dense(256)\n",
    "            self.dense1 = nn.Dense(10)\n",
    "\n",
    "    def forward(self, x):\n",
    "        return self.dense1(nd.relu(self.dense0(x)))"
   ]
  },
  {
   "cell_type": "code",
   "execution_count": 17,
   "metadata": {},
   "outputs": [
    {
     "name": "stdout",
     "output_type": "stream",
     "text": [
      "Sequential(\n",
      "  (0): MLP(\n",
      "    (dense1): Dense(None -> 10, linear)\n",
      "    (dense0): Dense(None -> 256, linear)\n",
      "  )\n",
      "  (1): Dense(None -> 10, linear)\n",
      ")\n"
     ]
    }
   ],
   "source": [
    "class RecMLP(nn.Block):\n",
    "    def __init__(self, **kwargs):\n",
    "        super(RecMLP, self).__init__(**kwargs)\n",
    "        self.net = nn.Sequential()\n",
    "        with self.name_scope():\n",
    "            self.net.add(nn.Dense(256, activation=\"relu\"))\n",
    "            self.net.add(nn.Dense(128, activation=\"relu\"))\n",
    "            self.dense0 = nn.Dense(256)\n",
    "            self.dense1 = nn.Dense(128)\n",
    "            self.dense2 = nn.Dense(64)\n",
    "            self.denses = [self.dense0, self.dense1, self.dense2]\n",
    "            # self.denses = [nn.Dense(256), nn.Dense(128), nn.Dense(64)] \n",
    "    \n",
    "    def forward(self, x):\n",
    "        x = self.net(x)\n",
    "        for layer in self.denses:\n",
    "            x = nd.relu(layer(x))\n",
    "        return x\n",
    "\n",
    "rec_mlp = nn.Sequential()\n",
    "rec_mlp.add(MLP())\n",
    "rec_mlp.add(nn.Dense(10))\n",
    "print(rec_mlp)"
   ]
  },
  {
   "cell_type": "code",
   "execution_count": 8,
   "metadata": {},
   "outputs": [
    {
     "data": {
      "text/plain": [
       "mxnet.gluon.nn.basic_layers.Dense"
      ]
     },
     "execution_count": 8,
     "metadata": {},
     "output_type": "execute_result"
    }
   ],
   "source": [
    "nn.Dense"
   ]
  },
  {
   "cell_type": "code",
   "execution_count": 13,
   "metadata": {},
   "outputs": [
    {
     "data": {
      "text/plain": [
       "\n",
       "[[ 0.03126615  0.04562764  0.00039858 -0.08772382 -0.05355632  0.02904576\n",
       "   0.08102556 -0.01433946 -0.04224151  0.06047883]\n",
       " [ 0.028719    0.03652266  0.00630052 -0.05650968 -0.07189324  0.08615956\n",
       "   0.05951558 -0.06045965 -0.0299026   0.05651002]\n",
       " [ 0.02147349  0.04818896  0.05321142 -0.12616859 -0.06850231  0.09096346\n",
       "   0.04064303 -0.05064794 -0.02200241  0.04859561]\n",
       " [ 0.03780478  0.07512389  0.03290458 -0.11641113 -0.03254965  0.05865289\n",
       "   0.02542158 -0.01697343 -0.00049652  0.05892841]]\n",
       "<NDArray 4x10 @cpu(0)>"
      ]
     },
     "execution_count": 13,
     "metadata": {},
     "output_type": "execute_result"
    }
   ],
   "source": [
    "class Sequential(nn.Block):\n",
    "    def __init__(self, **kwargs):\n",
    "        super(Sequential, self).__init__(**kwargs)\n",
    "    def add(self, block):\n",
    "        self._children.append(block)\n",
    "    def forward(self, x):\n",
    "        for block in self._children:\n",
    "            x = block(x)\n",
    "        return x\n",
    "net4 = Sequential()\n",
    "with net4.name_scope():\n",
    "    net4.add(nn.Dense(256, activation=\"relu\"))\n",
    "    net4.add(nn.Dense(10))\n",
    "\n",
    "x = nd.random.uniform(shape=(4,20))\n",
    "net4.initialize()\n",
    "y = net4(x)\n",
    "y"
   ]
  },
  {
   "cell_type": "code",
   "execution_count": 18,
   "metadata": {},
   "outputs": [
    {
     "name": "stdout",
     "output_type": "stream",
     "text": [
      "RecMLP(\n",
      "  (dense1): Dense(None -> 128, linear)\n",
      "  (dense0): Dense(None -> 256, linear)\n",
      "  (dense2): Dense(None -> 64, linear)\n",
      "  (net): Sequential(\n",
      "    (0): Dense(None -> 256, Activation(relu))\n",
      "    (1): Dense(None -> 128, Activation(relu))\n",
      "  )\n",
      ")\n"
     ]
    }
   ],
   "source": [
    "rec_mlp = RecMLP()\n",
    "rec_mlp.initialize()\n",
    "print rec_mlp"
   ]
  },
  {
   "cell_type": "code",
   "execution_count": 19,
   "metadata": {
    "collapsed": true
   },
   "outputs": [],
   "source": [
    "def get_net():\n",
    "    net = nn.Sequential()\n",
    "    with net.name_scope():\n",
    "        net.add(nn.Dense(4, activation=\"relu\"))\n",
    "        net.add(nn.Dense(2))\n",
    "    return net\n",
    "\n",
    "x = nd.random.uniform(shape=(3,5))"
   ]
  },
  {
   "cell_type": "code",
   "execution_count": 21,
   "metadata": {},
   "outputs": [
    {
     "name": "stdout",
     "output_type": "stream",
     "text": [
      "Sequential(\n",
      "  (0): Dense(None -> 4, Activation(relu))\n",
      "  (1): Dense(None -> 2, linear)\n",
      ")\n"
     ]
    },
    {
     "data": {
      "text/plain": [
       "\n",
       "[[ 0.00223847  0.00497976]\n",
       " [ 0.00098496  0.00593723]\n",
       " [ 0.00051086 -0.00054389]]\n",
       "<NDArray 3x2 @cpu(0)>"
      ]
     },
     "execution_count": 21,
     "metadata": {},
     "output_type": "execute_result"
    }
   ],
   "source": [
    "g_net = get_net()\n",
    "print g_net\n",
    "g_net.initialize()\n",
    "g_net(x)"
   ]
  },
  {
   "cell_type": "code",
   "execution_count": 24,
   "metadata": {},
   "outputs": [
    {
     "name": "stdout",
     "output_type": "stream",
     "text": [
      "Parameter sequential14_dense0_weight (shape=(4L, 5L), dtype=<type 'numpy.float32'>) \n",
      "Parameter sequential14_dense1_weight (shape=(2L, 4L), dtype=<type 'numpy.float32'>)\n",
      "Parameter sequential14_dense0_bias (shape=(4L,), dtype=<type 'numpy.float32'>) \n",
      "Parameter sequential14_dense1_bias (shape=(2L,), dtype=<type 'numpy.float32'>)\n"
     ]
    }
   ],
   "source": [
    "print g_net[0].weight, \"\\n\", g_net[1].weight\n",
    "print g_net[0].bias, \"\\n\", g_net[1].bias"
   ]
  },
  {
   "cell_type": "code",
   "execution_count": 32,
   "metadata": {},
   "outputs": [
    {
     "name": "stdout",
     "output_type": "stream",
     "text": [
      "sequential14_ (\n",
      "  Parameter sequential14_dense0_weight (shape=(4L, 5L), dtype=<type 'numpy.float32'>)\n",
      "  Parameter sequential14_dense0_bias (shape=(4L,), dtype=<type 'numpy.float32'>)\n",
      "  Parameter sequential14_dense1_weight (shape=(2L, 4L), dtype=<type 'numpy.float32'>)\n",
      "  Parameter sequential14_dense1_bias (shape=(2L,), dtype=<type 'numpy.float32'>)\n",
      ") <class 'mxnet.gluon.parameter.ParameterDict'> \n",
      "\n",
      "sequential14_ (\n",
      "\n",
      ") <class 'mxnet.gluon.parameter.ParameterDict'>\n"
     ]
    }
   ],
   "source": [
    "params = g_net.collect_params()\n",
    "print params, type(params) , \"\\n\"\n",
    "pp = g_net.params\n",
    "print pp, type(pp)"
   ]
  },
  {
   "cell_type": "code",
   "execution_count": 28,
   "metadata": {},
   "outputs": [
    {
     "name": "stdout",
     "output_type": "stream",
     "text": [
      "(\n",
      "[[  3.47158033e-03   8.45357310e-03   6.62524346e-03  -3.85387614e-02\n",
      "   -2.10823584e-02]\n",
      " [ -4.29782569e-02  -1.17376121e-02  -1.17822655e-03   2.53050011e-02\n",
      "    1.06135905e-02]\n",
      " [ -4.21083048e-02  -3.17697268e-04  -1.17256511e-02  -1.05709750e-02\n",
      "   -4.01610462e-03]\n",
      " [  1.69480536e-02   1.64358541e-02   1.71423808e-03   9.30319168e-03\n",
      "    1.02952818e-05]]\n",
      "<NDArray 4x5 @cpu(0)>, \n",
      "[ 0.  0.  0.  0.]\n",
      "<NDArray 4 @cpu(0)>)\n"
     ]
    }
   ],
   "source": [
    "from mxnet import init\n",
    "params.initialize(init=init.Normal(sigma=0.02), force_reinit=True)\n",
    "print(g_net[0].weight.data(), g_net[0].bias.data())"
   ]
  },
  {
   "cell_type": "code",
   "execution_count": 36,
   "metadata": {},
   "outputs": [
    {
     "name": "stdout",
     "output_type": "stream",
     "text": [
      "\n",
      "[[ 0.00114251 -0.00036724]\n",
      " [ 0.00094571 -0.00030398]\n",
      " [ 0.00082506 -0.0002652 ]]\n",
      "<NDArray 3x2 @cpu(0)>\n"
     ]
    }
   ],
   "source": [
    "filename = \"mlp.params\"\n",
    "g_net.save_params(filename)\n",
    "print g_net(x)"
   ]
  },
  {
   "cell_type": "code",
   "execution_count": 37,
   "metadata": {},
   "outputs": [
    {
     "name": "stdout",
     "output_type": "stream",
     "text": [
      "\n",
      "[[ 0.00114251 -0.00036724]\n",
      " [ 0.00094571 -0.00030398]\n",
      " [ 0.00082506 -0.0002652 ]]\n",
      "<NDArray 3x2 @cpu(0)>\n"
     ]
    }
   ],
   "source": [
    "import mxnet as mx\n",
    "net2 = get_net()\n",
    "net2.load_params(filename, mx.cpu())  # FIXME, gluon will support default ctx later\n",
    "print(net2(x))"
   ]
  },
  {
   "cell_type": "markdown",
   "metadata": {},
   "source": [
    "# 设计自定义的层"
   ]
  },
  {
   "cell_type": "code",
   "execution_count": 38,
   "metadata": {
    "collapsed": true
   },
   "outputs": [],
   "source": [
    "class CenteredLayer(nn.Block):\n",
    "    def __init__(self, **kwargs):\n",
    "        super(CenteredLayer, self).__init__(**kwargs)\n",
    "        \n",
    "    def forward(self, x):\n",
    "        return x - x.mean()"
   ]
  },
  {
   "cell_type": "code",
   "execution_count": 39,
   "metadata": {},
   "outputs": [
    {
     "data": {
      "text/plain": [
       "\n",
       "[-2. -1.  0.  1.  2.]\n",
       "<NDArray 5 @cpu(0)>"
      ]
     },
     "execution_count": 39,
     "metadata": {},
     "output_type": "execute_result"
    }
   ],
   "source": [
    "layer = CenteredLayer()\n",
    "layer(nd.array([1, 2, 3, 4, 5]))"
   ]
  },
  {
   "cell_type": "code",
   "execution_count": 40,
   "metadata": {
    "collapsed": true
   },
   "outputs": [],
   "source": [
    "net = nn.Sequential()\n",
    "with net.name_scope():\n",
    "    net.add(nn.Dense(128))\n",
    "    net.add(nn.Dense(10))\n",
    "    net.add(CenteredLayer())"
   ]
  },
  {
   "cell_type": "code",
   "execution_count": 41,
   "metadata": {},
   "outputs": [
    {
     "data": {
      "text/plain": [
       "\n",
       "[ -3.72529035e-10]\n",
       "<NDArray 1 @cpu(0)>"
      ]
     },
     "execution_count": 41,
     "metadata": {},
     "output_type": "execute_result"
    }
   ],
   "source": [
    "net.initialize()\n",
    "y = net(nd.random_uniform(shape=(4, 8)))\n",
    "y.mean()"
   ]
  },
  {
   "cell_type": "code",
   "execution_count": 42,
   "metadata": {},
   "outputs": [
    {
     "data": {
      "text/plain": [
       "(\n",
       " [[ 0.01490656 -0.02265774 -0.0394236 ]\n",
       "  [ 0.06461982 -0.00627637 -0.03756177]\n",
       "  [ 0.05304176  0.06290463 -0.00108245]]\n",
       " <NDArray 3x3 @cpu(0)>, \n",
       " [[ 0.  0.  0.]\n",
       "  [ 0.  0.  0.]\n",
       "  [ 0.  0.  0.]]\n",
       " <NDArray 3x3 @cpu(0)>)"
      ]
     },
     "execution_count": 42,
     "metadata": {},
     "output_type": "execute_result"
    }
   ],
   "source": [
    "my_param = gluon.Parameter(\"exciting_parameter_yay\", shape=(3,3))\n",
    "my_param.initialize()\n",
    "my_param.data(), my_param.grad()"
   ]
  },
  {
   "cell_type": "code",
   "execution_count": 45,
   "metadata": {
    "collapsed": true
   },
   "outputs": [],
   "source": [
    "class MyDense(nn.Block):\n",
    "    def __init__(self, units, in_units, **kwargs):\n",
    "        super(MyDense, self).__init__(**kwargs)\n",
    "        with self.name_scope():\n",
    "            self.weight = self.params.get('weight', shape=(in_units, units))\n",
    "            self.bias = self.params.get('bias', shape=(units,))\n",
    "    \n",
    "    def forward(self, x):\n",
    "        linear = nd.dot(x, self.weight.data()) + self.bias.data()\n",
    "        return nd.relu(linear)\n"
   ]
  },
  {
   "cell_type": "code",
   "execution_count": 46,
   "metadata": {},
   "outputs": [
    {
     "data": {
      "text/plain": [
       "o_my_dense_ (\n",
       "  Parameter o_my_dense_weight (shape=(10, 5), dtype=<type 'numpy.float32'>)\n",
       "  Parameter o_my_dense_bias (shape=(5,), dtype=<type 'numpy.float32'>)\n",
       ")"
      ]
     },
     "execution_count": 46,
     "metadata": {},
     "output_type": "execute_result"
    }
   ],
   "source": [
    "dense = MyDense(5, in_units=10, prefix='o_my_dense_')\n",
    "dense.params"
   ]
  },
  {
   "cell_type": "code",
   "execution_count": 47,
   "metadata": {},
   "outputs": [
    {
     "data": {
      "text/plain": [
       "\n",
       "[[ 0.0886663   0.06919234  0.09616455  0.06147449  0.        ]\n",
       " [ 0.06507732  0.          0.07136965  0.          0.        ]]\n",
       "<NDArray 2x5 @cpu(0)>"
      ]
     },
     "execution_count": 47,
     "metadata": {},
     "output_type": "execute_result"
    }
   ],
   "source": [
    "dense.initialize()\n",
    "dense(nd.random.uniform(shape=(2, 10)))"
   ]
  },
  {
   "cell_type": "code",
   "execution_count": 49,
   "metadata": {},
   "outputs": [
    {
     "data": {
      "text/plain": [
       "mxnet.gluon.nn.basic_layers.Dense"
      ]
     },
     "execution_count": 49,
     "metadata": {},
     "output_type": "execute_result"
    }
   ],
   "source": [
    "nn.Dense"
   ]
  },
  {
   "cell_type": "code",
   "execution_count": 50,
   "metadata": {},
   "outputs": [
    {
     "data": {
      "text/plain": [
       "\n",
       "[ 1.  2.  3.]\n",
       "<NDArray 3 @cpu(0)>"
      ]
     },
     "execution_count": 50,
     "metadata": {},
     "output_type": "execute_result"
    }
   ],
   "source": [
    "nd.array([1, 2, 3])"
   ]
  },
  {
   "cell_type": "code",
   "execution_count": null,
   "metadata": {
    "collapsed": true
   },
   "outputs": [],
   "source": []
  }
 ],
 "metadata": {
  "kernelspec": {
   "display_name": "Python 2",
   "language": "python",
   "name": "python2"
  },
  "language_info": {
   "codemirror_mode": {
    "name": "ipython",
    "version": 2
   },
   "file_extension": ".py",
   "mimetype": "text/x-python",
   "name": "python",
   "nbconvert_exporter": "python",
   "pygments_lexer": "ipython2",
   "version": "2.7.13"
  }
 },
 "nbformat": 4,
 "nbformat_minor": 2
}
