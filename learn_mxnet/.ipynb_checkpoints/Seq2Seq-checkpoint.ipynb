{
 "cells": [
  {
   "cell_type": "code",
   "execution_count": 1,
   "metadata": {
    "collapsed": true
   },
   "outputs": [],
   "source": [
    "import mxnet as mx\n",
    "from mxnet import autograd, gluon, nd\n",
    "from mxnet.gluon import nn, rnn, Block\n",
    "from mxnet.contrib import text\n",
    "\n",
    "from io import open\n",
    "import collections\n",
    "import datetime"
   ]
  },
  {
   "cell_type": "code",
   "execution_count": 2,
   "metadata": {
    "collapsed": true
   },
   "outputs": [],
   "source": [
    "PAD = '<pad>'\n",
    "BOS = '<bos>'\n",
    "EOS = '<eos>'"
   ]
  },
  {
   "cell_type": "code",
   "execution_count": 4,
   "metadata": {},
   "outputs": [],
   "source": [
    "epochs = 50\n",
    "epoch_period = 10\n",
    "\n",
    "learning_rate = 0.005\n",
    "max_seq_len = 5\n",
    "\n",
    "encoder_num_layers = 1\n",
    "decoder_num_layers = 2\n",
    "\n",
    "encoder_drop_prob = 0.1\n",
    "decoder_drop_prob = 0.1\n",
    "\n",
    "encoder_hidden_dim = 256\n",
    "decoder_hidden_dim = 256\n",
    "aligment_dim = 25\n",
    "\n",
    "ctx = mx.cpu(0)"
   ]
  },
  {
   "cell_type": "code",
   "execution_count": null,
   "metadata": {
    "collapsed": true
   },
   "outputs": [],
   "source": [
    "def read_data(max_seq_len):\n",
    "    input_tokens = []\n",
    "    output_tokens = []\n",
    "    input_seqs = []\n",
    "    output_seqs = []\n",
    "    \n",
    "    with open('../gluon_tutorials/data/fr-en-small.txt') as f:\n",
    "        lines = f.readlines()\n",
    "        for line in lines:\n",
    "            input_seq, output_seq = line.rstrip().split('\\t')\n",
    "            cur_input_tokens = input_seq.\n",
    "    "
   ]
  }
 ],
 "metadata": {
  "kernelspec": {
   "display_name": "Python 2",
   "language": "python",
   "name": "python2"
  },
  "language_info": {
   "codemirror_mode": {
    "name": "ipython",
    "version": 2
   },
   "file_extension": ".py",
   "mimetype": "text/x-python",
   "name": "python",
   "nbconvert_exporter": "python",
   "pygments_lexer": "ipython2",
   "version": "2.7.13"
  }
 },
 "nbformat": 4,
 "nbformat_minor": 2
}
