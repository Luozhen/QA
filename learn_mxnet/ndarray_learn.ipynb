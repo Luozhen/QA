{
 "cells": [
  {
   "cell_type": "code",
   "execution_count": 10,
   "metadata": {
    "collapsed": true
   },
   "outputs": [],
   "source": [
    "import mxnet as mx\n",
    "from mxnet import nd\n",
    "mx.random.seed(1)"
   ]
  },
  {
   "cell_type": "code",
   "execution_count": 9,
   "metadata": {},
   "outputs": [
    {
     "name": "stdout",
     "output_type": "stream",
     "text": [
      "\n",
      "[[  0.00000000e+00  -1.08420217e-19   0.00000000e+00  -1.08420217e-19]\n",
      " [  1.00622338e-35   1.40129846e-45   1.17399912e-31   1.40129846e-45]\n",
      " [  0.00000000e+00   0.00000000e+00   0.00000000e+00   2.75506488e-40]]\n",
      "<NDArray 3x4 @cpu(0)>\n"
     ]
    }
   ],
   "source": [
    "x = nd.empty((3, 4))\n",
    "print x"
   ]
  },
  {
   "cell_type": "code",
   "execution_count": 5,
   "metadata": {},
   "outputs": [
    {
     "name": "stdout",
     "output_type": "stream",
     "text": [
      "\n",
      "[[ 0.  0.  0.  0.]\n",
      " [ 0.  0.  0.  0.]\n",
      " [ 0.  0.  0.  0.]]\n",
      "<NDArray 3x4 @cpu(0)>\n"
     ]
    }
   ],
   "source": [
    "x_0 = nd.zeros((3, 4))\n",
    "print x_0"
   ]
  },
  {
   "cell_type": "code",
   "execution_count": 6,
   "metadata": {
    "scrolled": true
   },
   "outputs": [
    {
     "name": "stdout",
     "output_type": "stream",
     "text": [
      "\n",
      "[[ 1.  1.  1.  1.  1.]\n",
      " [ 1.  1.  1.  1.  1.]\n",
      " [ 1.  1.  1.  1.  1.]]\n",
      "<NDArray 3x5 @cpu(0)>\n"
     ]
    }
   ],
   "source": [
    "x_1 = nd.ones((3, 5))\n",
    "print x_1"
   ]
  },
  {
   "cell_type": "code",
   "execution_count": 12,
   "metadata": {},
   "outputs": [
    {
     "data": {
      "text/plain": [
       "\n",
       "[[ 0.12664476 -0.17841923  0.76479203 -0.21776067]\n",
       " [ 2.22578788 -0.68832648  0.84155577 -0.61584121]\n",
       " [ 0.01961165 -0.24421656 -0.13420729 -0.51804394]]\n",
       "<NDArray 3x4 @cpu(0)>"
      ]
     },
     "execution_count": 12,
     "metadata": {},
     "output_type": "execute_result"
    }
   ],
   "source": [
    "y = nd.random_normal(0, 1, shape=(3, 4))\n",
    "y"
   ]
  },
  {
   "cell_type": "code",
   "execution_count": 13,
   "metadata": {},
   "outputs": [
    {
     "data": {
      "text/plain": [
       "(3L, 4L)"
      ]
     },
     "execution_count": 13,
     "metadata": {},
     "output_type": "execute_result"
    }
   ],
   "source": [
    "y.shape"
   ]
  },
  {
   "cell_type": "code",
   "execution_count": 14,
   "metadata": {},
   "outputs": [
    {
     "data": {
      "text/plain": [
       "\n",
       "[[ 0.12664476 -0.17841923  0.76479203 -0.21776067]\n",
       " [ 2.22578788 -0.68832648  0.84155577 -0.61584121]\n",
       " [ 0.01961165 -0.24421656 -0.13420729 -0.51804394]]\n",
       "<NDArray 3x4 @cpu(0)>"
      ]
     },
     "execution_count": 14,
     "metadata": {},
     "output_type": "execute_result"
    }
   ],
   "source": [
    "x_0 + y"
   ]
  },
  {
   "cell_type": "code",
   "execution_count": 15,
   "metadata": {},
   "outputs": [
    {
     "data": {
      "text/plain": [
       "\n",
       "[[ 0. -0.  0. -0.]\n",
       " [ 0. -0.  0. -0.]\n",
       " [ 0. -0. -0. -0.]]\n",
       "<NDArray 3x4 @cpu(0)>"
      ]
     },
     "execution_count": 15,
     "metadata": {},
     "output_type": "execute_result"
    }
   ],
   "source": [
    "x_0 * y"
   ]
  },
  {
   "cell_type": "code",
   "execution_count": 17,
   "metadata": {},
   "outputs": [
    {
     "data": {
      "text/plain": [
       "\n",
       "[[ 1.1350137   0.8365916   2.14854741  0.80431789]\n",
       " [ 9.26077652  0.50241619  2.31997347  0.54018629]\n",
       " [ 1.01980519  0.78331798  0.87440878  0.59568459]]\n",
       "<NDArray 3x4 @cpu(0)>"
      ]
     },
     "execution_count": 17,
     "metadata": {},
     "output_type": "execute_result"
    }
   ],
   "source": [
    "nd.exp(y)"
   ]
  },
  {
   "cell_type": "code",
   "execution_count": 18,
   "metadata": {},
   "outputs": [
    {
     "data": {
      "text/plain": [
       "\n",
       "[[ 0.  0.  0.]\n",
       " [ 0.  0.  0.]\n",
       " [ 0.  0.  0.]]\n",
       "<NDArray 3x3 @cpu(0)>"
      ]
     },
     "execution_count": 18,
     "metadata": {},
     "output_type": "execute_result"
    }
   ],
   "source": [
    "nd.dot(x_0, y.T)"
   ]
  },
  {
   "cell_type": "code",
   "execution_count": 19,
   "metadata": {},
   "outputs": [
    {
     "name": "stdout",
     "output_type": "stream",
     "text": [
      "4497816208\n",
      "4497816144\n"
     ]
    }
   ],
   "source": [
    "print id(y)\n",
    "y = x_0 + y\n",
    "print id(y)"
   ]
  },
  {
   "cell_type": "code",
   "execution_count": 24,
   "metadata": {},
   "outputs": [
    {
     "name": "stdout",
     "output_type": "stream",
     "text": [
      "\n",
      "[[ 0.12664476 -0.17841923  0.76479203 -0.21776067]\n",
      " [ 2.22578788 -0.68832648  0.84155577 -0.61584121]\n",
      " [ 0.01961165 -0.24421656 -0.13420729 -0.51804394]]\n",
      "<NDArray 3x4 @cpu(0)>\n"
     ]
    },
    {
     "data": {
      "text/plain": [
       "4497816144"
      ]
     },
     "execution_count": 24,
     "metadata": {},
     "output_type": "execute_result"
    }
   ],
   "source": [
    "y[:] = x_0 + y\n",
    "print y\n",
    "id(y)"
   ]
  },
  {
   "cell_type": "code",
   "execution_count": 21,
   "metadata": {},
   "outputs": [
    {
     "data": {
      "text/plain": [
       "\n",
       "[[ 0.12664476 -0.17841923  0.76479203 -0.21776067]\n",
       " [ 2.22578788 -0.68832648  0.84155577 -0.61584121]\n",
       " [ 0.01961165 -0.24421656 -0.13420729 -0.51804394]]\n",
       "<NDArray 3x4 @cpu(0)>"
      ]
     },
     "execution_count": 21,
     "metadata": {},
     "output_type": "execute_result"
    }
   ],
   "source": [
    "nd.elemwise_add(x, y, out=y)"
   ]
  },
  {
   "cell_type": "code",
   "execution_count": 22,
   "metadata": {},
   "outputs": [
    {
     "data": {
      "text/plain": [
       "4497816144"
      ]
     },
     "execution_count": 22,
     "metadata": {},
     "output_type": "execute_result"
    }
   ],
   "source": [
    "id(y)"
   ]
  },
  {
   "cell_type": "code",
   "execution_count": 27,
   "metadata": {},
   "outputs": [
    {
     "name": "stdout",
     "output_type": "stream",
     "text": [
      "4497815888\n",
      "\n",
      "[[ 0.37993428 -0.5352577   2.29437613 -0.65328199]\n",
      " [ 6.6773634  -2.06497955  2.52466726 -1.84752369]\n",
      " [ 0.05883496 -0.73264968 -0.40262187 -1.55413175]]\n",
      "<NDArray 3x4 @cpu(0)> \n",
      "[[ 0.12664476 -0.17841923  0.76479203 -0.21776067]\n",
      " [ 2.22578788 -0.68832648  0.84155577 -0.61584121]\n",
      " [ 0.01961165 -0.24421656 -0.13420729 -0.51804394]]\n",
      "<NDArray 3x4 @cpu(0)>\n",
      "4497815888\n",
      "4497815888\n"
     ]
    }
   ],
   "source": [
    "print id(x)\n",
    "print x, y\n",
    "x += y\n",
    "print id(x)\n",
    "# print x\n",
    "x[:] = x + y\n",
    "print id(x)"
   ]
  },
  {
   "cell_type": "code",
   "execution_count": 28,
   "metadata": {},
   "outputs": [
    {
     "data": {
      "text/plain": [
       "\n",
       "[[  0.63322377  -0.89209616   3.82396007  -1.08880329]\n",
       " [ 11.12893963  -3.44163227   4.20777893  -3.07920599]\n",
       " [  0.09805825  -1.22108281  -0.67103648  -2.59021974]]\n",
       "<NDArray 3x4 @cpu(0)>"
      ]
     },
     "execution_count": 28,
     "metadata": {},
     "output_type": "execute_result"
    }
   ],
   "source": [
    "x"
   ]
  },
  {
   "cell_type": "code",
   "execution_count": 29,
   "metadata": {},
   "outputs": [
    {
     "data": {
      "text/plain": [
       "\n",
       "[[ 11.12893963  -3.44163227   4.20777893  -3.07920599]\n",
       " [  0.09805825  -1.22108281  -0.67103648  -2.59021974]]\n",
       "<NDArray 2x4 @cpu(0)>"
      ]
     },
     "execution_count": 29,
     "metadata": {},
     "output_type": "execute_result"
    }
   ],
   "source": [
    "x[1:3]"
   ]
  },
  {
   "cell_type": "code",
   "execution_count": 30,
   "metadata": {},
   "outputs": [
    {
     "name": "stdout",
     "output_type": "stream",
     "text": [
      "\n",
      "[[  0.63322377  -0.89209616   3.82396007  -1.08880329]\n",
      " [ 11.12893963  -3.44163227   9.          -3.07920599]\n",
      " [  0.09805825  -1.22108281  -0.67103648  -2.59021974]]\n",
      "<NDArray 3x4 @cpu(0)>\n"
     ]
    }
   ],
   "source": [
    "x[1, 2] = 9\n",
    "print x"
   ]
  },
  {
   "cell_type": "code",
   "execution_count": 31,
   "metadata": {},
   "outputs": [
    {
     "name": "stdout",
     "output_type": "stream",
     "text": [
      "\n",
      "[[  0.63322377  -0.89209616   3.82396007  -1.08880329]\n",
      " [ 11.12893963   5.           5.          -3.07920599]\n",
      " [  0.09805825  -1.22108281  -0.67103648  -2.59021974]]\n",
      "<NDArray 3x4 @cpu(0)>\n"
     ]
    }
   ],
   "source": [
    "x[1:2, 1:3] = 5\n",
    "print x"
   ]
  },
  {
   "cell_type": "code",
   "execution_count": 32,
   "metadata": {},
   "outputs": [
    {
     "data": {
      "text/plain": [
       "\n",
       "[[ 5.         -3.07920599]\n",
       " [-0.67103648 -2.59021974]]\n",
       "<NDArray 2x2 @cpu(0)>"
      ]
     },
     "execution_count": 32,
     "metadata": {},
     "output_type": "execute_result"
    }
   ],
   "source": [
    "x[1:3, 2:]"
   ]
  },
  {
   "cell_type": "code",
   "execution_count": 34,
   "metadata": {},
   "outputs": [
    {
     "name": "stdout",
     "output_type": "stream",
     "text": [
      "\n",
      "[[ 1.  1.  1.]\n",
      " [ 1.  1.  1.]\n",
      " [ 1.  1.  1.]]\n",
      "<NDArray 3x3 @cpu(0)>\n",
      "\n",
      "[ 0.  1.  2.]\n",
      "<NDArray 3 @cpu(0)>\n"
     ]
    }
   ],
   "source": [
    "x = nd.ones((3, 3))\n",
    "y = nd.arange(3)\n",
    "print x\n",
    "print y"
   ]
  },
  {
   "cell_type": "code",
   "execution_count": 35,
   "metadata": {},
   "outputs": [
    {
     "name": "stdout",
     "output_type": "stream",
     "text": [
      "\n",
      "[[ 1.  2.  3.]\n",
      " [ 1.  2.  3.]\n",
      " [ 1.  2.  3.]]\n",
      "<NDArray 3x3 @cpu(0)>\n"
     ]
    }
   ],
   "source": [
    "print x + y"
   ]
  },
  {
   "cell_type": "code",
   "execution_count": 36,
   "metadata": {
    "collapsed": true
   },
   "outputs": [],
   "source": [
    "y = y.reshape((3, 1))"
   ]
  },
  {
   "cell_type": "code",
   "execution_count": 37,
   "metadata": {},
   "outputs": [
    {
     "name": "stdout",
     "output_type": "stream",
     "text": [
      "\n",
      "[[ 0.]\n",
      " [ 1.]\n",
      " [ 2.]]\n",
      "<NDArray 3x1 @cpu(0)>\n"
     ]
    }
   ],
   "source": [
    "print y"
   ]
  },
  {
   "cell_type": "code",
   "execution_count": 38,
   "metadata": {},
   "outputs": [
    {
     "data": {
      "text/plain": [
       "\n",
       "[[ 1.  1.  1.]\n",
       " [ 2.  2.  2.]\n",
       " [ 3.  3.  3.]]\n",
       "<NDArray 3x3 @cpu(0)>"
      ]
     },
     "execution_count": 38,
     "metadata": {},
     "output_type": "execute_result"
    }
   ],
   "source": [
    "x + y"
   ]
  },
  {
   "cell_type": "code",
   "execution_count": 39,
   "metadata": {},
   "outputs": [
    {
     "data": {
      "text/plain": [
       "numpy.ndarray"
      ]
     },
     "execution_count": 39,
     "metadata": {},
     "output_type": "execute_result"
    }
   ],
   "source": [
    "a = x.asnumpy()\n",
    "type(a)"
   ]
  },
  {
   "cell_type": "code",
   "execution_count": 40,
   "metadata": {},
   "outputs": [
    {
     "name": "stdout",
     "output_type": "stream",
     "text": [
      "\n",
      "[[ 1.  1.  1.]\n",
      " [ 1.  1.  1.]\n",
      " [ 1.  1.  1.]]\n",
      "<NDArray 3x3 @cpu(0)> <class 'mxnet.ndarray.ndarray.NDArray'>\n"
     ]
    }
   ],
   "source": [
    "y = nd.array(a)\n",
    "print y, type(y)"
   ]
  },
  {
   "cell_type": "code",
   "execution_count": 41,
   "metadata": {},
   "outputs": [
    {
     "ename": "MXNetError",
     "evalue": "[21:48:19] src/imperative/imperative.cc:78: Operator _ones is not implemented for GPU.\n\nStack trace returned 7 entries:\n[bt] (0) 0   libmxnet.so                         0x0000000107a112cf libmxnet.so + 58063\n[bt] (1) 1   libmxnet.so                         0x0000000107a1106f libmxnet.so + 57455\n[bt] (2) 2   libmxnet.so                         0x0000000108a12f34 MXNDListFree + 399188\n[bt] (3) 3   libmxnet.so                         0x0000000108a1707a MXNDListFree + 415898\n[bt] (4) 4   libmxnet.so                         0x0000000108999277 MXCustomFunctionRecord + 16119\n[bt] (5) 5   libmxnet.so                         0x000000010899a444 MXImperativeInvokeEx + 164\n[bt] (6) 6   _ctypes.so                          0x0000000105ffd7d7 ffi_call_unix64 + 79\n\n",
     "output_type": "error",
     "traceback": [
      "\u001b[0;31m---------------------------------------------------------------------------\u001b[0m",
      "\u001b[0;31mMXNetError\u001b[0m                                Traceback (most recent call last)",
      "\u001b[0;32m<ipython-input-41-91319beb4cb7>\u001b[0m in \u001b[0;36m<module>\u001b[0;34m()\u001b[0m\n\u001b[0;32m----> 1\u001b[0;31m \u001b[0mz\u001b[0m \u001b[0;34m=\u001b[0m \u001b[0mnd\u001b[0m\u001b[0;34m.\u001b[0m\u001b[0mones\u001b[0m\u001b[0;34m(\u001b[0m\u001b[0mshape\u001b[0m\u001b[0;34m=\u001b[0m\u001b[0;34m(\u001b[0m\u001b[0;36m3\u001b[0m\u001b[0;34m,\u001b[0m\u001b[0;36m3\u001b[0m\u001b[0;34m)\u001b[0m\u001b[0;34m,\u001b[0m \u001b[0mctx\u001b[0m\u001b[0;34m=\u001b[0m\u001b[0mmx\u001b[0m\u001b[0;34m.\u001b[0m\u001b[0mgpu\u001b[0m\u001b[0;34m(\u001b[0m\u001b[0;36m0\u001b[0m\u001b[0;34m)\u001b[0m\u001b[0;34m)\u001b[0m\u001b[0;34m\u001b[0m\u001b[0m\n\u001b[0m\u001b[1;32m      2\u001b[0m \u001b[0mz\u001b[0m\u001b[0;34m\u001b[0m\u001b[0m\n",
      "\u001b[0;32m/usr/local/lib/python2.7/site-packages/mxnet/ndarray/ndarray.pyc\u001b[0m in \u001b[0;36mones\u001b[0;34m(shape, ctx, dtype, **kwargs)\u001b[0m\n\u001b[1;32m   2175\u001b[0m     \u001b[0mdtype\u001b[0m \u001b[0;34m=\u001b[0m \u001b[0mmx_real_t\u001b[0m \u001b[0;32mif\u001b[0m \u001b[0mdtype\u001b[0m \u001b[0;32mis\u001b[0m \u001b[0mNone\u001b[0m \u001b[0;32melse\u001b[0m \u001b[0mdtype\u001b[0m\u001b[0;34m\u001b[0m\u001b[0m\n\u001b[1;32m   2176\u001b[0m     \u001b[0;31m# pylint: disable= no-member, protected-access\u001b[0m\u001b[0;34m\u001b[0m\u001b[0;34m\u001b[0m\u001b[0m\n\u001b[0;32m-> 2177\u001b[0;31m     \u001b[0;32mreturn\u001b[0m \u001b[0m_internal\u001b[0m\u001b[0;34m.\u001b[0m\u001b[0m_ones\u001b[0m\u001b[0;34m(\u001b[0m\u001b[0mshape\u001b[0m\u001b[0;34m=\u001b[0m\u001b[0mshape\u001b[0m\u001b[0;34m,\u001b[0m \u001b[0mctx\u001b[0m\u001b[0;34m=\u001b[0m\u001b[0mctx\u001b[0m\u001b[0;34m,\u001b[0m \u001b[0mdtype\u001b[0m\u001b[0;34m=\u001b[0m\u001b[0mdtype\u001b[0m\u001b[0;34m,\u001b[0m \u001b[0;34m**\u001b[0m\u001b[0mkwargs\u001b[0m\u001b[0;34m)\u001b[0m\u001b[0;34m\u001b[0m\u001b[0m\n\u001b[0m\u001b[1;32m   2178\u001b[0m     \u001b[0;31m# pylint: enable= no-member, protected-access\u001b[0m\u001b[0;34m\u001b[0m\u001b[0;34m\u001b[0m\u001b[0m\n\u001b[1;32m   2179\u001b[0m \u001b[0;34m\u001b[0m\u001b[0m\n",
      "\u001b[0;32m/usr/local/lib/python2.7/site-packages/mxnet/ndarray/register.pyc\u001b[0m in \u001b[0;36m_ones\u001b[0;34m(shape, ctx, dtype, out, name, **kwargs)\u001b[0m\n",
      "\u001b[0;32m/usr/local/lib/python2.7/site-packages/mxnet/_ctypes/ndarray.pyc\u001b[0m in \u001b[0;36m_imperative_invoke\u001b[0;34m(handle, ndargs, keys, vals, out)\u001b[0m\n\u001b[1;32m     90\u001b[0m         \u001b[0mc_str_array\u001b[0m\u001b[0;34m(\u001b[0m\u001b[0mkeys\u001b[0m\u001b[0;34m)\u001b[0m\u001b[0;34m,\u001b[0m\u001b[0;34m\u001b[0m\u001b[0m\n\u001b[1;32m     91\u001b[0m         \u001b[0mc_str_array\u001b[0m\u001b[0;34m(\u001b[0m\u001b[0;34m[\u001b[0m\u001b[0mstr\u001b[0m\u001b[0;34m(\u001b[0m\u001b[0ms\u001b[0m\u001b[0;34m)\u001b[0m \u001b[0;32mfor\u001b[0m \u001b[0ms\u001b[0m \u001b[0;32min\u001b[0m \u001b[0mvals\u001b[0m\u001b[0;34m]\u001b[0m\u001b[0;34m)\u001b[0m\u001b[0;34m,\u001b[0m\u001b[0;34m\u001b[0m\u001b[0m\n\u001b[0;32m---> 92\u001b[0;31m         ctypes.byref(out_stypes)))\n\u001b[0m\u001b[1;32m     93\u001b[0m \u001b[0;34m\u001b[0m\u001b[0m\n\u001b[1;32m     94\u001b[0m     \u001b[0;32mif\u001b[0m \u001b[0moriginal_output\u001b[0m \u001b[0;32mis\u001b[0m \u001b[0;32mnot\u001b[0m \u001b[0mNone\u001b[0m\u001b[0;34m:\u001b[0m\u001b[0;34m\u001b[0m\u001b[0m\n",
      "\u001b[0;32m/usr/local/lib/python2.7/site-packages/mxnet/base.pyc\u001b[0m in \u001b[0;36mcheck_call\u001b[0;34m(ret)\u001b[0m\n\u001b[1;32m    144\u001b[0m     \"\"\"\n\u001b[1;32m    145\u001b[0m     \u001b[0;32mif\u001b[0m \u001b[0mret\u001b[0m \u001b[0;34m!=\u001b[0m \u001b[0;36m0\u001b[0m\u001b[0;34m:\u001b[0m\u001b[0;34m\u001b[0m\u001b[0m\n\u001b[0;32m--> 146\u001b[0;31m         \u001b[0;32mraise\u001b[0m \u001b[0mMXNetError\u001b[0m\u001b[0;34m(\u001b[0m\u001b[0mpy_str\u001b[0m\u001b[0;34m(\u001b[0m\u001b[0m_LIB\u001b[0m\u001b[0;34m.\u001b[0m\u001b[0mMXGetLastError\u001b[0m\u001b[0;34m(\u001b[0m\u001b[0;34m)\u001b[0m\u001b[0;34m)\u001b[0m\u001b[0;34m)\u001b[0m\u001b[0;34m\u001b[0m\u001b[0m\n\u001b[0m\u001b[1;32m    147\u001b[0m \u001b[0;34m\u001b[0m\u001b[0m\n\u001b[1;32m    148\u001b[0m \u001b[0;34m\u001b[0m\u001b[0m\n",
      "\u001b[0;31mMXNetError\u001b[0m: [21:48:19] src/imperative/imperative.cc:78: Operator _ones is not implemented for GPU.\n\nStack trace returned 7 entries:\n[bt] (0) 0   libmxnet.so                         0x0000000107a112cf libmxnet.so + 58063\n[bt] (1) 1   libmxnet.so                         0x0000000107a1106f libmxnet.so + 57455\n[bt] (2) 2   libmxnet.so                         0x0000000108a12f34 MXNDListFree + 399188\n[bt] (3) 3   libmxnet.so                         0x0000000108a1707a MXNDListFree + 415898\n[bt] (4) 4   libmxnet.so                         0x0000000108999277 MXCustomFunctionRecord + 16119\n[bt] (5) 5   libmxnet.so                         0x000000010899a444 MXImperativeInvokeEx + 164\n[bt] (6) 6   _ctypes.so                          0x0000000105ffd7d7 ffi_call_unix64 + 79\n\n"
     ]
    }
   ],
   "source": [
    "z = nd.ones(shape=(3,3), ctx=mx.gpu(0))\n",
    "z"
   ]
  },
  {
   "cell_type": "code",
   "execution_count": 42,
   "metadata": {},
   "outputs": [
    {
     "data": {
      "text/plain": [
       "\n",
       "[[ 1.  1.  1.]\n",
       " [ 1.  1.  1.]\n",
       " [ 1.  1.  1.]]\n",
       "<NDArray 3x3 @cpu(0)>"
      ]
     },
     "execution_count": 42,
     "metadata": {},
     "output_type": "execute_result"
    }
   ],
   "source": [
    "z = nd.ones(shape=(3,3), ctx=mx.cpu(0))\n",
    "z"
   ]
  },
  {
   "cell_type": "code",
   "execution_count": 44,
   "metadata": {},
   "outputs": [
    {
     "data": {
      "text/plain": [
       "mxnet.context.Context"
      ]
     },
     "execution_count": 44,
     "metadata": {},
     "output_type": "execute_result"
    }
   ],
   "source": [
    "type(mx.cpu(0))"
   ]
  },
  {
   "cell_type": "code",
   "execution_count": 45,
   "metadata": {},
   "outputs": [
    {
     "name": "stdout",
     "output_type": "stream",
     "text": [
      "\n",
      "[ 5.  7.  9.]\n",
      "<NDArray 3 @cpu(0)>\n",
      "\n",
      "[  4.  10.  18.]\n",
      "<NDArray 3 @cpu(0)>\n",
      "\n",
      "[ 0.25        0.40000001  0.5       ]\n",
      "<NDArray 3 @cpu(0)>\n"
     ]
    }
   ],
   "source": [
    "x = nd.array([1, 2, 3])\n",
    "y = nd.array([4, 5, 6])\n",
    "print x + y\n",
    "print x * y\n",
    "print x / y"
   ]
  },
  {
   "cell_type": "code",
   "execution_count": 46,
   "metadata": {},
   "outputs": [
    {
     "ename": "ValueError",
     "evalue": "The current array is not a scalar",
     "output_type": "error",
     "traceback": [
      "\u001b[0;31m---------------------------------------------------------------------------\u001b[0m",
      "\u001b[0;31mValueError\u001b[0m                                Traceback (most recent call last)",
      "\u001b[0;32m<ipython-input-46-de6cc04ecf1b>\u001b[0m in \u001b[0;36m<module>\u001b[0;34m()\u001b[0m\n\u001b[0;32m----> 1\u001b[0;31m \u001b[0mx\u001b[0m\u001b[0;34m.\u001b[0m\u001b[0masscalar\u001b[0m\u001b[0;34m(\u001b[0m\u001b[0;34m)\u001b[0m\u001b[0;34m\u001b[0m\u001b[0m\n\u001b[0m",
      "\u001b[0;32m/usr/local/lib/python2.7/site-packages/mxnet/ndarray/ndarray.pyc\u001b[0m in \u001b[0;36masscalar\u001b[0;34m(self)\u001b[0m\n\u001b[1;32m   1808\u001b[0m         \"\"\"\n\u001b[1;32m   1809\u001b[0m         \u001b[0;32mif\u001b[0m \u001b[0mself\u001b[0m\u001b[0;34m.\u001b[0m\u001b[0mshape\u001b[0m \u001b[0;34m!=\u001b[0m \u001b[0;34m(\u001b[0m\u001b[0;36m1\u001b[0m\u001b[0;34m,\u001b[0m\u001b[0;34m)\u001b[0m\u001b[0;34m:\u001b[0m\u001b[0;34m\u001b[0m\u001b[0m\n\u001b[0;32m-> 1810\u001b[0;31m             \u001b[0;32mraise\u001b[0m \u001b[0mValueError\u001b[0m\u001b[0;34m(\u001b[0m\u001b[0;34m\"The current array is not a scalar\"\u001b[0m\u001b[0;34m)\u001b[0m\u001b[0;34m\u001b[0m\u001b[0m\n\u001b[0m\u001b[1;32m   1811\u001b[0m         \u001b[0;32mreturn\u001b[0m \u001b[0mself\u001b[0m\u001b[0;34m.\u001b[0m\u001b[0masnumpy\u001b[0m\u001b[0;34m(\u001b[0m\u001b[0;34m)\u001b[0m\u001b[0;34m[\u001b[0m\u001b[0;36m0\u001b[0m\u001b[0;34m]\u001b[0m\u001b[0;34m\u001b[0m\u001b[0m\n\u001b[1;32m   1812\u001b[0m \u001b[0;34m\u001b[0m\u001b[0m\n",
      "\u001b[0;31mValueError\u001b[0m: The current array is not a scalar"
     ]
    }
   ],
   "source": [
    "x.asscalar()"
   ]
  },
  {
   "cell_type": "code",
   "execution_count": 47,
   "metadata": {
    "collapsed": true
   },
   "outputs": [],
   "source": [
    "x = nd.array([3])"
   ]
  },
  {
   "cell_type": "code",
   "execution_count": 48,
   "metadata": {},
   "outputs": [
    {
     "data": {
      "text/plain": [
       "3.0"
      ]
     },
     "execution_count": 48,
     "metadata": {},
     "output_type": "execute_result"
    }
   ],
   "source": [
    "x.asscalar()"
   ]
  },
  {
   "cell_type": "code",
   "execution_count": 50,
   "metadata": {},
   "outputs": [
    {
     "name": "stdout",
     "output_type": "stream",
     "text": [
      "<class 'mxnet.ndarray.ndarray.NDArray'>\n",
      "<class 'mxnet.ndarray.ndarray.NDArray'>\n",
      "<class 'mxnet.ndarray.ndarray.NDArray'>\n"
     ]
    }
   ],
   "source": [
    "print type(x)\n",
    "print type(y)\n",
    "print type(z)"
   ]
  },
  {
   "cell_type": "code",
   "execution_count": 54,
   "metadata": {},
   "outputs": [
    {
     "name": "stdout",
     "output_type": "stream",
     "text": [
      "\n",
      "[ 0.  1.]\n",
      "<NDArray 2 @cpu(0)>\n",
      "<class 'mxnet.ndarray.ndarray.NDArray'>\n",
      "\n",
      "[[-0.1808067  -0.934901   -1.59375691  0.55677748]\n",
      " [-0.31680766 -1.18900001  0.36280948  2.35324502]\n",
      " [-1.14727199 -0.56843698  0.38352442  0.03851178]]\n",
      "<NDArray 3x4 @cpu(0)> <class 'mxnet.ndarray.ndarray.NDArray'>\n"
     ]
    }
   ],
   "source": [
    "print nd.arange(2)\n",
    "print type(nd.arange(2))\n",
    "rd_ = nd.random_normal(0, 1, shape=(3, 4))\n",
    "print rd_, type(rd_)"
   ]
  },
  {
   "cell_type": "code",
   "execution_count": 59,
   "metadata": {},
   "outputs": [
    {
     "name": "stdout",
     "output_type": "stream",
     "text": [
      "4\n",
      "\n",
      "[ 0.  1.  2.  3.]\n",
      "<NDArray 4 @cpu(0)>\n",
      "<class 'mxnet.ndarray.ndarray.NDArray'>\n"
     ]
    }
   ],
   "source": [
    "u = nd.arange(4)\n",
    "print len(u)\n",
    "print u\n",
    "print type(u)"
   ]
  },
  {
   "cell_type": "code",
   "execution_count": 61,
   "metadata": {},
   "outputs": [
    {
     "data": {
      "text/plain": [
       "(4L,)"
      ]
     },
     "execution_count": 61,
     "metadata": {},
     "output_type": "execute_result"
    }
   ],
   "source": [
    "u.shape"
   ]
  },
  {
   "cell_type": "code",
   "execution_count": 62,
   "metadata": {
    "collapsed": true
   },
   "outputs": [],
   "source": [
    "x = nd.array([1, 2, 3])"
   ]
  },
  {
   "cell_type": "code",
   "execution_count": 63,
   "metadata": {},
   "outputs": [
    {
     "name": "stdout",
     "output_type": "stream",
     "text": [
      "\n",
      "[ 3.  6.  9.]\n",
      "<NDArray 3 @cpu(0)>\n",
      "\n",
      "[ 4.  5.  6.]\n",
      "<NDArray 3 @cpu(0)>\n"
     ]
    }
   ],
   "source": [
    "a = 3\n",
    "print a * x\n",
    "print a + x"
   ]
  },
  {
   "cell_type": "code",
   "execution_count": 64,
   "metadata": {},
   "outputs": [
    {
     "data": {
      "text/plain": [
       "\n",
       "[ 1.  2.  3.]\n",
       "<NDArray 3 @cpu(0)>"
      ]
     },
     "execution_count": 64,
     "metadata": {},
     "output_type": "execute_result"
    }
   ],
   "source": [
    "x"
   ]
  },
  {
   "cell_type": "code",
   "execution_count": 66,
   "metadata": {},
   "outputs": [
    {
     "name": "stdout",
     "output_type": "stream",
     "text": [
      "\n",
      "[ 2.]\n",
      "<NDArray 1 @cpu(0)>\n",
      "\n",
      "[ 2.]\n",
      "<NDArray 1 @cpu(0)>\n"
     ]
    }
   ],
   "source": [
    "s = nd.sum(x)\n",
    "m = nd.mean(x)\n",
    "print s / x.size\n",
    "print m"
   ]
  },
  {
   "cell_type": "code",
   "execution_count": 67,
   "metadata": {},
   "outputs": [
    {
     "name": "stdout",
     "output_type": "stream",
     "text": [
      "\n",
      "[ 1.  2.  3.]\n",
      "<NDArray 3 @cpu(0)>\n",
      "\n",
      "[ 4.  5.  6.]\n",
      "<NDArray 3 @cpu(0)>\n"
     ]
    }
   ],
   "source": [
    "print x\n",
    "print y"
   ]
  },
  {
   "cell_type": "code",
   "execution_count": 68,
   "metadata": {},
   "outputs": [
    {
     "data": {
      "text/plain": [
       "\n",
       "[ 32.]\n",
       "<NDArray 1 @cpu(0)>"
      ]
     },
     "execution_count": 68,
     "metadata": {},
     "output_type": "execute_result"
    }
   ],
   "source": [
    "nd.dot(x, y)"
   ]
  },
  {
   "cell_type": "code",
   "execution_count": 69,
   "metadata": {},
   "outputs": [
    {
     "data": {
      "text/plain": [
       "\n",
       "[  4.  10.  18.]\n",
       "<NDArray 3 @cpu(0)>"
      ]
     },
     "execution_count": 69,
     "metadata": {},
     "output_type": "execute_result"
    }
   ],
   "source": [
    "nd.multiply(x, y)"
   ]
  },
  {
   "cell_type": "code",
   "execution_count": 70,
   "metadata": {},
   "outputs": [
    {
     "data": {
      "text/plain": [
       "\n",
       "[  4.  10.  18.]\n",
       "<NDArray 3 @cpu(0)>"
      ]
     },
     "execution_count": 70,
     "metadata": {},
     "output_type": "execute_result"
    }
   ],
   "source": [
    "x * y"
   ]
  },
  {
   "cell_type": "code",
   "execution_count": 71,
   "metadata": {},
   "outputs": [
    {
     "data": {
      "text/plain": [
       "\n",
       "[ 32.]\n",
       "<NDArray 1 @cpu(0)>"
      ]
     },
     "execution_count": 71,
     "metadata": {},
     "output_type": "execute_result"
    }
   ],
   "source": [
    "nd.dot(x, y.T)"
   ]
  },
  {
   "cell_type": "code",
   "execution_count": 72,
   "metadata": {},
   "outputs": [
    {
     "name": "stdout",
     "output_type": "stream",
     "text": [
      "\n",
      "[[ 1.  2.  3.]\n",
      " [ 4.  5.  6.]]\n",
      "<NDArray 2x3 @cpu(0)>\n",
      "\n",
      "[[ 1.  1.]\n",
      " [ 1.  1.]\n",
      " [ 1.  1.]]\n",
      "<NDArray 3x2 @cpu(0)>\n"
     ]
    }
   ],
   "source": [
    "x = nd.array([[1, 2, 3], [4, 5, 6]])\n",
    "y = nd.array([[1, 1], [1, 1], [1, 1]])\n",
    "print x\n",
    "print y"
   ]
  },
  {
   "cell_type": "code",
   "execution_count": 73,
   "metadata": {},
   "outputs": [
    {
     "data": {
      "text/plain": [
       "\n",
       "[[  6.   6.]\n",
       " [ 15.  15.]]\n",
       "<NDArray 2x2 @cpu(0)>"
      ]
     },
     "execution_count": 73,
     "metadata": {},
     "output_type": "execute_result"
    }
   ],
   "source": [
    "nd.dot(x, y)"
   ]
  },
  {
   "cell_type": "code",
   "execution_count": 74,
   "metadata": {},
   "outputs": [
    {
     "data": {
      "text/plain": [
       "\n",
       "[ 21.]\n",
       "<NDArray 1 @cpu(0)>"
      ]
     },
     "execution_count": 74,
     "metadata": {},
     "output_type": "execute_result"
    }
   ],
   "source": [
    "nd.sum(nd.abs(x))"
   ]
  },
  {
   "cell_type": "code",
   "execution_count": 75,
   "metadata": {},
   "outputs": [
    {
     "data": {
      "text/plain": [
       "\n",
       "[[ 1.  2.  3.]\n",
       " [ 4.  5.  6.]]\n",
       "<NDArray 2x3 @cpu(0)>"
      ]
     },
     "execution_count": 75,
     "metadata": {},
     "output_type": "execute_result"
    }
   ],
   "source": [
    "x"
   ]
  },
  {
   "cell_type": "code",
   "execution_count": 76,
   "metadata": {},
   "outputs": [
    {
     "data": {
      "text/plain": [
       "\n",
       "[ 9.53939247]\n",
       "<NDArray 1 @cpu(0)>"
      ]
     },
     "execution_count": 76,
     "metadata": {},
     "output_type": "execute_result"
    }
   ],
   "source": [
    "nd.norm(x)"
   ]
  },
  {
   "cell_type": "code",
   "execution_count": 84,
   "metadata": {},
   "outputs": [],
   "source": [
    "probabilities = nd.ones(6) / 6\n",
    "max_val = 0\n",
    "for i in range(1000):\n",
    "    tmp = nd.sample_multinomial(probabilities)\n",
    "    max_val =tmp if tmp > max_val else max_val"
   ]
  },
  {
   "cell_type": "code",
   "execution_count": 85,
   "metadata": {},
   "outputs": [
    {
     "data": {
      "text/plain": [
       "\n",
       "[5]\n",
       "<NDArray 1 @cpu(0)>"
      ]
     },
     "execution_count": 85,
     "metadata": {},
     "output_type": "execute_result"
    }
   ],
   "source": [
    "max_val"
   ]
  },
  {
   "cell_type": "code",
   "execution_count": 87,
   "metadata": {},
   "outputs": [
    {
     "data": {
      "text/plain": [
       "\n",
       "[[5 3 2]\n",
       " [5 5 4]]\n",
       "<NDArray 2x3 @cpu(0)>"
      ]
     },
     "execution_count": 87,
     "metadata": {},
     "output_type": "execute_result"
    }
   ],
   "source": [
    "nd.sample_multinomial(probabilities, shape=(2,3))"
   ]
  },
  {
   "cell_type": "code",
   "execution_count": 88,
   "metadata": {
    "collapsed": true
   },
   "outputs": [],
   "source": [
    "rolls = nd.sample_multinomial(probabilities, shape=(1000))"
   ]
  },
  {
   "cell_type": "code",
   "execution_count": 89,
   "metadata": {
    "collapsed": true
   },
   "outputs": [],
   "source": [
    "counts = nd.zeros((6,1000))\n",
    "totals = nd.zeros(6)\n",
    "for i, roll in enumerate(rolls):\n",
    "    totals[int(roll.asscalar())] += 1\n",
    "    counts[:, i] = totals"
   ]
  },
  {
   "cell_type": "code",
   "execution_count": 90,
   "metadata": {},
   "outputs": [
    {
     "data": {
      "text/plain": [
       "\n",
       "[[   1.    1.    1. ...,  181.  181.  181.]\n",
       " [   0.    0.    0. ...,  142.  142.  143.]\n",
       " [   0.    0.    0. ...,  162.  162.  162.]\n",
       " [   0.    0.    0. ...,  161.  162.  162.]\n",
       " [   0.    1.    2. ...,  175.  175.  175.]\n",
       " [   0.    0.    0. ...,  177.  177.  177.]]\n",
       "<NDArray 6x1000 @cpu(0)>"
      ]
     },
     "execution_count": 90,
     "metadata": {},
     "output_type": "execute_result"
    }
   ],
   "source": [
    "counts"
   ]
  },
  {
   "cell_type": "code",
   "execution_count": 91,
   "metadata": {
    "collapsed": true
   },
   "outputs": [],
   "source": [
    "x = nd.arange(1000).reshape((1,1000)) + 1"
   ]
  },
  {
   "cell_type": "code",
   "execution_count": 92,
   "metadata": {},
   "outputs": [
    {
     "data": {
      "text/plain": [
       "\n",
       "[[    1.     2.     3.     4.     5.     6.     7.     8.     9.    10.\n",
       "     11.    12.    13.    14.    15.    16.    17.    18.    19.    20.\n",
       "     21.    22.    23.    24.    25.    26.    27.    28.    29.    30.\n",
       "     31.    32.    33.    34.    35.    36.    37.    38.    39.    40.\n",
       "     41.    42.    43.    44.    45.    46.    47.    48.    49.    50.\n",
       "     51.    52.    53.    54.    55.    56.    57.    58.    59.    60.\n",
       "     61.    62.    63.    64.    65.    66.    67.    68.    69.    70.\n",
       "     71.    72.    73.    74.    75.    76.    77.    78.    79.    80.\n",
       "     81.    82.    83.    84.    85.    86.    87.    88.    89.    90.\n",
       "     91.    92.    93.    94.    95.    96.    97.    98.    99.   100.\n",
       "    101.   102.   103.   104.   105.   106.   107.   108.   109.   110.\n",
       "    111.   112.   113.   114.   115.   116.   117.   118.   119.   120.\n",
       "    121.   122.   123.   124.   125.   126.   127.   128.   129.   130.\n",
       "    131.   132.   133.   134.   135.   136.   137.   138.   139.   140.\n",
       "    141.   142.   143.   144.   145.   146.   147.   148.   149.   150.\n",
       "    151.   152.   153.   154.   155.   156.   157.   158.   159.   160.\n",
       "    161.   162.   163.   164.   165.   166.   167.   168.   169.   170.\n",
       "    171.   172.   173.   174.   175.   176.   177.   178.   179.   180.\n",
       "    181.   182.   183.   184.   185.   186.   187.   188.   189.   190.\n",
       "    191.   192.   193.   194.   195.   196.   197.   198.   199.   200.\n",
       "    201.   202.   203.   204.   205.   206.   207.   208.   209.   210.\n",
       "    211.   212.   213.   214.   215.   216.   217.   218.   219.   220.\n",
       "    221.   222.   223.   224.   225.   226.   227.   228.   229.   230.\n",
       "    231.   232.   233.   234.   235.   236.   237.   238.   239.   240.\n",
       "    241.   242.   243.   244.   245.   246.   247.   248.   249.   250.\n",
       "    251.   252.   253.   254.   255.   256.   257.   258.   259.   260.\n",
       "    261.   262.   263.   264.   265.   266.   267.   268.   269.   270.\n",
       "    271.   272.   273.   274.   275.   276.   277.   278.   279.   280.\n",
       "    281.   282.   283.   284.   285.   286.   287.   288.   289.   290.\n",
       "    291.   292.   293.   294.   295.   296.   297.   298.   299.   300.\n",
       "    301.   302.   303.   304.   305.   306.   307.   308.   309.   310.\n",
       "    311.   312.   313.   314.   315.   316.   317.   318.   319.   320.\n",
       "    321.   322.   323.   324.   325.   326.   327.   328.   329.   330.\n",
       "    331.   332.   333.   334.   335.   336.   337.   338.   339.   340.\n",
       "    341.   342.   343.   344.   345.   346.   347.   348.   349.   350.\n",
       "    351.   352.   353.   354.   355.   356.   357.   358.   359.   360.\n",
       "    361.   362.   363.   364.   365.   366.   367.   368.   369.   370.\n",
       "    371.   372.   373.   374.   375.   376.   377.   378.   379.   380.\n",
       "    381.   382.   383.   384.   385.   386.   387.   388.   389.   390.\n",
       "    391.   392.   393.   394.   395.   396.   397.   398.   399.   400.\n",
       "    401.   402.   403.   404.   405.   406.   407.   408.   409.   410.\n",
       "    411.   412.   413.   414.   415.   416.   417.   418.   419.   420.\n",
       "    421.   422.   423.   424.   425.   426.   427.   428.   429.   430.\n",
       "    431.   432.   433.   434.   435.   436.   437.   438.   439.   440.\n",
       "    441.   442.   443.   444.   445.   446.   447.   448.   449.   450.\n",
       "    451.   452.   453.   454.   455.   456.   457.   458.   459.   460.\n",
       "    461.   462.   463.   464.   465.   466.   467.   468.   469.   470.\n",
       "    471.   472.   473.   474.   475.   476.   477.   478.   479.   480.\n",
       "    481.   482.   483.   484.   485.   486.   487.   488.   489.   490.\n",
       "    491.   492.   493.   494.   495.   496.   497.   498.   499.   500.\n",
       "    501.   502.   503.   504.   505.   506.   507.   508.   509.   510.\n",
       "    511.   512.   513.   514.   515.   516.   517.   518.   519.   520.\n",
       "    521.   522.   523.   524.   525.   526.   527.   528.   529.   530.\n",
       "    531.   532.   533.   534.   535.   536.   537.   538.   539.   540.\n",
       "    541.   542.   543.   544.   545.   546.   547.   548.   549.   550.\n",
       "    551.   552.   553.   554.   555.   556.   557.   558.   559.   560.\n",
       "    561.   562.   563.   564.   565.   566.   567.   568.   569.   570.\n",
       "    571.   572.   573.   574.   575.   576.   577.   578.   579.   580.\n",
       "    581.   582.   583.   584.   585.   586.   587.   588.   589.   590.\n",
       "    591.   592.   593.   594.   595.   596.   597.   598.   599.   600.\n",
       "    601.   602.   603.   604.   605.   606.   607.   608.   609.   610.\n",
       "    611.   612.   613.   614.   615.   616.   617.   618.   619.   620.\n",
       "    621.   622.   623.   624.   625.   626.   627.   628.   629.   630.\n",
       "    631.   632.   633.   634.   635.   636.   637.   638.   639.   640.\n",
       "    641.   642.   643.   644.   645.   646.   647.   648.   649.   650.\n",
       "    651.   652.   653.   654.   655.   656.   657.   658.   659.   660.\n",
       "    661.   662.   663.   664.   665.   666.   667.   668.   669.   670.\n",
       "    671.   672.   673.   674.   675.   676.   677.   678.   679.   680.\n",
       "    681.   682.   683.   684.   685.   686.   687.   688.   689.   690.\n",
       "    691.   692.   693.   694.   695.   696.   697.   698.   699.   700.\n",
       "    701.   702.   703.   704.   705.   706.   707.   708.   709.   710.\n",
       "    711.   712.   713.   714.   715.   716.   717.   718.   719.   720.\n",
       "    721.   722.   723.   724.   725.   726.   727.   728.   729.   730.\n",
       "    731.   732.   733.   734.   735.   736.   737.   738.   739.   740.\n",
       "    741.   742.   743.   744.   745.   746.   747.   748.   749.   750.\n",
       "    751.   752.   753.   754.   755.   756.   757.   758.   759.   760.\n",
       "    761.   762.   763.   764.   765.   766.   767.   768.   769.   770.\n",
       "    771.   772.   773.   774.   775.   776.   777.   778.   779.   780.\n",
       "    781.   782.   783.   784.   785.   786.   787.   788.   789.   790.\n",
       "    791.   792.   793.   794.   795.   796.   797.   798.   799.   800.\n",
       "    801.   802.   803.   804.   805.   806.   807.   808.   809.   810.\n",
       "    811.   812.   813.   814.   815.   816.   817.   818.   819.   820.\n",
       "    821.   822.   823.   824.   825.   826.   827.   828.   829.   830.\n",
       "    831.   832.   833.   834.   835.   836.   837.   838.   839.   840.\n",
       "    841.   842.   843.   844.   845.   846.   847.   848.   849.   850.\n",
       "    851.   852.   853.   854.   855.   856.   857.   858.   859.   860.\n",
       "    861.   862.   863.   864.   865.   866.   867.   868.   869.   870.\n",
       "    871.   872.   873.   874.   875.   876.   877.   878.   879.   880.\n",
       "    881.   882.   883.   884.   885.   886.   887.   888.   889.   890.\n",
       "    891.   892.   893.   894.   895.   896.   897.   898.   899.   900.\n",
       "    901.   902.   903.   904.   905.   906.   907.   908.   909.   910.\n",
       "    911.   912.   913.   914.   915.   916.   917.   918.   919.   920.\n",
       "    921.   922.   923.   924.   925.   926.   927.   928.   929.   930.\n",
       "    931.   932.   933.   934.   935.   936.   937.   938.   939.   940.\n",
       "    941.   942.   943.   944.   945.   946.   947.   948.   949.   950.\n",
       "    951.   952.   953.   954.   955.   956.   957.   958.   959.   960.\n",
       "    961.   962.   963.   964.   965.   966.   967.   968.   969.   970.\n",
       "    971.   972.   973.   974.   975.   976.   977.   978.   979.   980.\n",
       "    981.   982.   983.   984.   985.   986.   987.   988.   989.   990.\n",
       "    991.   992.   993.   994.   995.   996.   997.   998.   999.  1000.]]\n",
       "<NDArray 1x1000 @cpu(0)>"
      ]
     },
     "execution_count": 92,
     "metadata": {},
     "output_type": "execute_result"
    }
   ],
   "source": [
    "x"
   ]
  },
  {
   "cell_type": "code",
   "execution_count": 93,
   "metadata": {},
   "outputs": [
    {
     "name": "stdout",
     "output_type": "stream",
     "text": [
      "\n",
      "[ 1.  0.  0.  0.  0.  0.]\n",
      "<NDArray 6 @cpu(0)>\n",
      "\n",
      "[ 0.5  0.   0.   0.   0.5  0. ]\n",
      "<NDArray 6 @cpu(0)>\n",
      "\n",
      "[ 0.15841584  0.17821783  0.17821783  0.12871288  0.23762377  0.11881188]\n",
      "<NDArray 6 @cpu(0)>\n"
     ]
    }
   ],
   "source": [
    "estimates = counts / x\n",
    "print(estimates[:,0])\n",
    "print(estimates[:,1])\n",
    "print(estimates[:,100])"
   ]
  },
  {
   "cell_type": "code",
   "execution_count": 94,
   "metadata": {},
   "outputs": [
    {
     "data": {
      "image/png": "[encoded data removed]",
      "text/plain": [
       "<matplotlib.figure.Figure at 0x10c8cda50>"
      ]
     },
     "metadata": {},
     "output_type": "display_data"
    }
   ],
   "source": [
    "from matplotlib import pyplot as plt\n",
    "plt.plot(estimates[0, :].asnumpy(), label=\"Estimated P(die=1)\")\n",
    "plt.plot(estimates[1, :].asnumpy(), label=\"Estimated P(die=2)\")\n",
    "plt.plot(estimates[2, :].asnumpy(), label=\"Estimated P(die=3)\")\n",
    "plt.plot(estimates[3, :].asnumpy(), label=\"Estimated P(die=4)\")\n",
    "plt.plot(estimates[4, :].asnumpy(), label=\"Estimated P(die=5)\")\n",
    "plt.plot(estimates[5, :].asnumpy(), label=\"Estimated P(die=6)\")\n",
    "plt.axhline(y=0.16666, color='black', linestyle='dashed')\n",
    "plt.legend()\n",
    "plt.show()"
   ]
  },
  {
   "cell_type": "code",
   "execution_count": 95,
   "metadata": {},
   "outputs": [
    {
     "name": "stdout",
     "output_type": "stream",
     "text": [
      "Downloading /Users/luozhen/.mxnet/datasets/mnist/train-images-idx3-ubyte.gz from https://apache-mxnet.s3-accelerate.dualstack.amazonaws.com/gluon/dataset/mnist/train-images-idx3-ubyte.gz...\n",
      "Downloading /Users/luozhen/.mxnet/datasets/mnist/train-labels-idx1-ubyte.gz from https://apache-mxnet.s3-accelerate.dualstack.amazonaws.com/gluon/dataset/mnist/train-labels-idx1-ubyte.gz...\n",
      "Downloading /Users/luozhen/.mxnet/datasets/mnist/t10k-images-idx3-ubyte.gz from https://apache-mxnet.s3-accelerate.dualstack.amazonaws.com/gluon/dataset/mnist/t10k-images-idx3-ubyte.gz...\n",
      "Downloading /Users/luozhen/.mxnet/datasets/mnist/t10k-labels-idx1-ubyte.gz from https://apache-mxnet.s3-accelerate.dualstack.amazonaws.com/gluon/dataset/mnist/t10k-labels-idx1-ubyte.gz...\n"
     ]
    }
   ],
   "source": [
    "import numpy as np\n",
    "\n",
    "# we go over one observation at a time (speed doesn't matter here)\n",
    "def transform(data, label):\n",
    "    return (nd.floor(data/128)).astype(np.float32), label.astype(np.float32)\n",
    "mnist_train = mx.gluon.data.vision.MNIST(train=True, transform=transform)\n",
    "mnist_test = mx.gluon.data.vision.MNIST(train=False, transform=transform)\n",
    "\n",
    "# Initialize the count statistics for p(y) and p(x_i|y)\n",
    "# We initialize all numbers with a count of 1 to ensure that we don't get a\n",
    "# division by zero.  Statisticians call this Laplace smoothing.\n",
    "ycount = nd.ones(shape=(10))\n",
    "xcount = nd.ones(shape=(784, 10))\n",
    "\n",
    "# Aggregate count statistics of how frequently a pixel is on (or off) for\n",
    "# zeros and ones.\n",
    "for data, label in mnist_train:\n",
    "    x = data.reshape((784,))\n",
    "    y = int(label)\n",
    "    ycount[y] += 1\n",
    "    xcount[:, y] += x\n",
    "\n",
    "# normalize the probabilities p(x_i|y) (divide per pixel counts by total\n",
    "# count)\n",
    "for i in range(10):\n",
    "    xcount[:, i] = xcount[:, i]/ycount[i]\n",
    "\n",
    "# likewise, compute the probability p(y)\n",
    "py = ycount / nd.sum(ycount)"
   ]
  },
  {
   "cell_type": "code",
   "execution_count": 97,
   "metadata": {},
   "outputs": [
    {
     "data": {
      "image/png": "[encoded data removed]",
      "text/plain": [
       "<matplotlib.figure.Figure at 0x10c8c4850>"
      ]
     },
     "metadata": {},
     "output_type": "display_data"
    },
    {
     "name": "stdout",
     "output_type": "stream",
     "text": [
      "\n",
      "[ 0.09871688  0.11236461  0.09930012  0.10218297  0.09736711  0.09035161\n",
      "  0.09863356  0.10441593  0.09751708  0.09915014]\n",
      "<NDArray 10 @cpu(0)>\n"
     ]
    }
   ],
   "source": [
    "import matplotlib.pyplot as plt\n",
    "fig, figarr = plt.subplots(1, 10, figsize=(15, 15))\n",
    "for i in range(10):\n",
    "    figarr[i].imshow(xcount[:, i].reshape((28, 28)).asnumpy(), cmap='hot')\n",
    "    figarr[i].axes.get_xaxis().set_visible(False)\n",
    "    figarr[i].axes.get_yaxis().set_visible(False)\n",
    "\n",
    "plt.show()\n",
    "print(py)"
   ]
  },
  {
   "cell_type": "code",
   "execution_count": 98,
   "metadata": {},
   "outputs": [
    {
     "data": {
      "image/png": "[encoded data removed]",
      "text/plain": [
       "<matplotlib.figure.Figure at 0x1107e1c10>"
      ]
     },
     "metadata": {},
     "output_type": "display_data"
    }
   ],
   "source": [
    "logxcount = nd.log(xcount)\n",
    "logxcountneg = nd.log(1-xcount)\n",
    "logpy = nd.log(py)\n",
    "\n",
    "fig, figarr = plt.subplots(2, 10, figsize=(15, 3))\n",
    "\n",
    "# show 10 images\n",
    "ctr = 0\n",
    "for data, label in mnist_test:\n",
    "    x = data.reshape((784,))\n",
    "    y = int(label)\n",
    "\n",
    "    # we need to incorporate the prior probability p(y) since p(y|x) is\n",
    "    # proportional to p(x|y) p(y)\n",
    "    logpx = logpy.copy()\n",
    "    for i in range(10):\n",
    "        # compute the log probability for a digit\n",
    "        logpx[i] += nd.dot(logxcount[:, i], x) + nd.dot(logxcountneg[:, i], 1-x)\n",
    "    # normalize to prevent overflow or underflow by subtracting the largest\n",
    "    # value\n",
    "    logpx -= nd.max(logpx)\n",
    "    # and compute the softmax using logpx\n",
    "    px = nd.exp(logpx).asnumpy()\n",
    "    px /= np.sum(px)\n",
    "\n",
    "    # bar chart and image of digit\n",
    "    figarr[1, ctr].bar(range(10), px)\n",
    "    figarr[1, ctr].axes.get_yaxis().set_visible(False)\n",
    "    figarr[0, ctr].imshow(x.reshape((28, 28)).asnumpy(), cmap='hot')\n",
    "    figarr[0, ctr].axes.get_xaxis().set_visible(False)\n",
    "    figarr[0, ctr].axes.get_yaxis().set_visible(False)\n",
    "    ctr += 1\n",
    "    if ctr == 10:\n",
    "        break\n",
    "\n",
    "plt.show()"
   ]
  },
  {
   "cell_type": "code",
   "execution_count": null,
   "metadata": {
    "collapsed": true
   },
   "outputs": [],
   "source": [
    "x = np.arange(-10, 10, 0.01)\n",
    "p = (1/math.sqrt(2 * math.pi)) * np.exp(-0.5 * x**2)\n",
    "plt.figure(figsize=(10, 5))\n",
    "plt.plot(x, p)\n",
    "plt.show()"
   ]
  },
  {
   "cell_type": "code",
   "execution_count": 100,
   "metadata": {
    "collapsed": true
   },
   "outputs": [],
   "source": [
    "import mxnet.ndarray as nd\n",
    "import mxnet.autograd as ag"
   ]
  },
  {
   "cell_type": "code",
   "execution_count": null,
   "metadata": {
    "collapsed": true
   },
   "outputs": [],
   "source": []
  }
 ],
 "metadata": {
  "kernelspec": {
   "display_name": "Python 2",
   "language": "python",
   "name": "python2"
  },
  "language_info": {
   "codemirror_mode": {
    "name": "ipython",
    "version": 2
   },
   "file_extension": ".py",
   "mimetype": "text/x-python",
   "name": "python",
   "nbconvert_exporter": "python",
   "pygments_lexer": "ipython2",
   "version": "2.7.13"
  }
 },
 "nbformat": 4,
 "nbformat_minor": 2
}
