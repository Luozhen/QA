{
 "cells": [
  {
   "cell_type": "markdown",
   "metadata": {},
   "source": [
    "### 卷积神经网络：\n",
    "主要由卷积层构成的神经网络"
   ]
  },
  {
   "cell_type": "code",
   "execution_count": 6,
   "metadata": {},
   "outputs": [
    {
     "name": "stdout",
     "output_type": "stream",
     "text": [
      "\n",
      "[[[[ 0.  1.  2.]\n",
      "   [ 3.  4.  5.]\n",
      "   [ 6.  7.  8.]]]]\n",
      "<NDArray 1x1x3x3 @cpu(0)>\n",
      "\n",
      "[[[[ 0.  1.]\n",
      "   [ 2.  3.]]]]\n",
      "<NDArray 1x1x2x2 @cpu(0)>\n",
      "\n",
      "[ 1.]\n",
      "<NDArray 1 @cpu(0)>\n",
      "\n",
      "[[[[ 20.  26.]\n",
      "   [ 38.  44.]]]]\n",
      "<NDArray 1x1x2x2 @cpu(0)>\n"
     ]
    }
   ],
   "source": [
    "from mxnet import nd\n",
    "\n",
    "w = nd.arange(4).reshape((1, 1, 2, 2))\n",
    "b = nd.array([1])\n",
    "\n",
    "data = nd.arange(9).reshape((1, 1, 3, 3))\n",
    "out = nd.Convolution(data, w, b, kernel=w.shape[2:], num_filter=w.shape[1])\n",
    "\n",
    "print data\n",
    "print w\n",
    "print b\n",
    "print out"
   ]
  },
  {
   "cell_type": "code",
   "execution_count": 8,
   "metadata": {},
   "outputs": [
    {
     "data": {
      "text/plain": [
       "(2L, 2L)"
      ]
     },
     "execution_count": 8,
     "metadata": {},
     "output_type": "execute_result"
    }
   ],
   "source": [
    "w.shape[2:]"
   ]
  },
  {
   "cell_type": "code",
   "execution_count": 9,
   "metadata": {},
   "outputs": [
    {
     "name": "stdout",
     "output_type": "stream",
     "text": [
      "('input:', \n",
      "[[[[ 0.  1.  2.]\n",
      "   [ 3.  4.  5.]\n",
      "   [ 6.  7.  8.]]]]\n",
      "<NDArray 1x1x3x3 @cpu(0)>, '\\n\\nweight:', \n",
      "[[[[ 0.  1.]\n",
      "   [ 2.  3.]]]]\n",
      "<NDArray 1x1x2x2 @cpu(0)>, '\\n\\nbias:', \n",
      "[ 1.]\n",
      "<NDArray 1 @cpu(0)>, '\\n\\noutput:', \n",
      "[[[[  1.   9.]\n",
      "   [ 22.  44.]]]]\n",
      "<NDArray 1x1x2x2 @cpu(0)>)\n"
     ]
    }
   ],
   "source": [
    "out = nd.Convolution(data, w, b, kernel=w.shape[2:], num_filter=w.shape[1],\n",
    "                     stride=(2,2), pad=(1,1))\n",
    "\n",
    "print('input:', data, '\\n\\nweight:', w, '\\n\\nbias:', b, '\\n\\noutput:', out)"
   ]
  },
  {
   "cell_type": "code",
   "execution_count": null,
   "metadata": {
    "collapsed": true
   },
   "outputs": [],
   "source": []
  }
 ],
 "metadata": {
  "kernelspec": {
   "display_name": "Python 2",
   "language": "python",
   "name": "python2"
  },
  "language_info": {
   "codemirror_mode": {
    "name": "ipython",
    "version": 2
   },
   "file_extension": ".py",
   "mimetype": "text/x-python",
   "name": "python",
   "nbconvert_exporter": "python",
   "pygments_lexer": "ipython2",
   "version": "2.7.13"
  }
 },
 "nbformat": 4,
 "nbformat_minor": 2
}
