{
 "cells": [
  {
   "cell_type": "markdown",
   "metadata": {},
   "source": [
    "# RNN \n",
    "包含隐含层的前一时刻结果一起作为输出层的输入加入计算"
   ]
  },
  {
   "cell_type": "code",
   "execution_count": 1,
   "metadata": {},
   "outputs": [
    {
     "name": "stdout",
     "output_type": "stream",
     "text": [
      "想要有直升机\n",
      "想要和你飞到宇宙去\n",
      "想要和你融化在一起\n",
      "融化在宇宙里\n",
      "我每\n"
     ]
    }
   ],
   "source": [
    "import zipfile\n",
    "# with zipfile.ZipFile('jaychou_lyrics.txt.zip', 'r') as zin:\n",
    "#     zin.extractall('')\n",
    "\n",
    "with open('jaychou_lyrics.txt') as f:\n",
    "    corpus_chars = f.read()\n",
    "print(corpus_chars[0:100])"
   ]
  },
  {
   "cell_type": "code",
   "execution_count": 11,
   "metadata": {
    "collapsed": true
   },
   "outputs": [],
   "source": [
    "corpus_chars = corpus_chars.replace('\\n', ' ').replace('\\r', ' ')\n",
    "corpus_chars = corpus_chars[0:20000]"
   ]
  },
  {
   "cell_type": "code",
   "execution_count": 12,
   "metadata": {},
   "outputs": [
    {
     "name": "stdout",
     "output_type": "stream",
     "text": [
      "88\n"
     ]
    }
   ],
   "source": [
    "char_list = list(set(corpus_chars))\n",
    "char_dict = dict([(e, i) for i, e in enumerate(char_set)])\n",
    "\n",
    "vocab_size = len(char_dict)\n",
    "print vocab_size"
   ]
  },
  {
   "cell_type": "code",
   "execution_count": 14,
   "metadata": {},
   "outputs": [
    {
     "name": "stdout",
     "output_type": "stream",
     "text": [
      "chars: \n",
      "想要有直升机 想要和你飞到宇\n",
      "\n",
      "indices: \n",
      "[85, 0, 13, 40, 74, 41, 85, 27, 43, 18, 6, 33, 62, 44, 1, 85, 27, 80, 8, 85, 0, 13, 40, 74, 41, 62, 69, 23, 39, 57, 28, 63, 9, 72, 62, 22, 32, 62, 77, 1]\n"
     ]
    }
   ],
   "source": [
    "corpus_indices = [char_dict[char] for char in corpus_chars]\n",
    "\n",
    "sample = corpus_indices[:40]\n",
    "\n",
    "print 'chars: \\n', ''.join([char_list[idx] for idx in sample])\n",
    "print '\\nindices: \\n', sample"
   ]
  }
 ],
 "metadata": {
  "kernelspec": {
   "display_name": "Python 2",
   "language": "python",
   "name": "python2"
  },
  "language_info": {
   "codemirror_mode": {
    "name": "ipython",
    "version": 2
   },
   "file_extension": ".py",
   "mimetype": "text/x-python",
   "name": "python",
   "nbconvert_exporter": "python",
   "pygments_lexer": "ipython2",
   "version": "2.7.13"
  }
 },
 "nbformat": 4,
 "nbformat_minor": 2
}
