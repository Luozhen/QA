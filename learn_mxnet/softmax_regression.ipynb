{
 "cells": [
  {
   "cell_type": "code",
   "execution_count": 2,
   "metadata": {},
   "outputs": [],
   "source": [
    "from mxnet import gluon\n",
    "from mxnet import ndarray as nd\n",
    "\n",
    "def transform(data, label):\n",
    "    return data.astype('float32')/255, label.astype('float32')\n",
    "mnist_train = gluon.data.vision.FashionMNIST(train=True, transform=transform)\n",
    "mnist_test = gluon.data.vision.FashionMNIST(train=False, transform=transform)"
   ]
  },
  {
   "cell_type": "code",
   "execution_count": 2,
   "metadata": {},
   "outputs": [
    {
     "data": {
      "text/plain": [
       "('example shape: ', (28L, 28L, 1L), 'label:', 2.0)"
      ]
     },
     "execution_count": 2,
     "metadata": {},
     "output_type": "execute_result"
    }
   ],
   "source": [
    "data, label = mnist_train[0]\n",
    "('example shape: ', data.shape, 'label:', label)"
   ]
  },
  {
   "cell_type": "code",
   "execution_count": 3,
   "metadata": {},
   "outputs": [
    {
     "data": {
      "image/png": "[encoded data removed]",
      "text/plain": [
       "<matplotlib.figure.Figure at 0x10d4f2c10>"
      ]
     },
     "metadata": {},
     "output_type": "display_data"
    },
    {
     "name": "stdout",
     "output_type": "stream",
     "text": [
      "['pullover', 'ankle boot', 'shirt', 't-shirt', 'dress,', 'coat', 'coat', 'sandal', 'coat']\n"
     ]
    }
   ],
   "source": [
    "import matplotlib.pyplot as plt\n",
    "\n",
    "def show_images(images):\n",
    "    n = images.shape[0]\n",
    "    _, figs = plt.subplots(1, n, figsize=(15, 15))\n",
    "    for i in range(n):\n",
    "        figs[i].imshow(images[i].reshape((28, 28)).asnumpy())\n",
    "        figs[i].axes.get_xaxis().set_visible(False)\n",
    "        figs[i].axes.get_yaxis().set_visible(False)\n",
    "    plt.show()\n",
    "\n",
    "def get_text_labels(label):\n",
    "    text_labels = [\n",
    "        't-shirt', 'trouser', 'pullover', 'dress,', 'coat',\n",
    "        'sandal', 'shirt', 'sneaker', 'bag', 'ankle boot'\n",
    "    ]\n",
    "    return [text_labels[int(i)] for i in label]\n",
    "\n",
    "data, label = mnist_train[0:9]\n",
    "show_images(data)\n",
    "print(get_text_labels(label))"
   ]
  },
  {
   "cell_type": "code",
   "execution_count": 5,
   "metadata": {
    "collapsed": true
   },
   "outputs": [],
   "source": [
    "batch_size = 256\n",
    "train_data = gluon.data.DataLoader(mnist_train, batch_size, shuffle=True)\n",
    "test_data = gluon.data.DataLoader(mnist_test, batch_size, shuffle=False)"
   ]
  },
  {
   "cell_type": "code",
   "execution_count": 47,
   "metadata": {
    "collapsed": true
   },
   "outputs": [],
   "source": [
    "num_inputs = 784\n",
    "num_outputs = 10\n",
    "\n",
    "W = nd.random_normal(shape=(num_inputs, num_outputs))\n",
    "b = nd.random_normal(shape=num_outputs)\n",
    "\n",
    "params = [W, b]"
   ]
  },
  {
   "cell_type": "code",
   "execution_count": 36,
   "metadata": {
    "collapsed": true
   },
   "outputs": [],
   "source": [
    "for param in params:\n",
    "    param.attach_grad()"
   ]
  },
  {
   "cell_type": "code",
   "execution_count": 37,
   "metadata": {
    "collapsed": true
   },
   "outputs": [],
   "source": [
    "def softmax(y):\n",
    "    exp_ele = nd.exp(y)\n",
    "    partition = exp_ele.sum(axis=1, keepdims=True)\n",
    "    return exp_ele / partition\n",
    "\n",
    "def net(x):\n",
    "    return softmax(nd.dot(x.reshape((-1, num_inputs)), W) + b)\n",
    "t = nd.array([1, 2, 3, 4])\n",
    "# print t.exp()\n",
    "# la = nd.reshape(t, shape=(4, 1))\n",
    "# print la\n",
    "# print t.reshape(shape=(4, 1))\n",
    "# print la.sum(axis=1, keepdims=True)\n",
    "# print nd.exp(la)\n",
    "# print nd.sum(nd.exp(la))\n",
    "# print nd.exp(la).sum(axis=1, keepdims=True)"
   ]
  },
  {
   "cell_type": "code",
   "execution_count": 38,
   "metadata": {
    "collapsed": true
   },
   "outputs": [],
   "source": [
    "def SGD(params, lr):\n",
    "    for param in params:\n",
    "        param[:] -= lr * param.grad"
   ]
  },
  {
   "cell_type": "code",
   "execution_count": 39,
   "metadata": {
    "collapsed": true
   },
   "outputs": [],
   "source": [
    "def cross_entry(y_hy, y_true):\n",
    "    return - nd.pick(nd.log(y_hy), y_true)"
   ]
  },
  {
   "cell_type": "code",
   "execution_count": 8,
   "metadata": {},
   "outputs": [
    {
     "name": "stdout",
     "output_type": "stream",
     "text": [
      "\n",
      "[[  1.   2.   3.]\n",
      " [  4.   9.   6.]\n",
      " [ 11.   8.   9.]]\n",
      "<NDArray 3x3 @cpu(0)>\n",
      "\n",
      "[ 2.  1.  2.]\n",
      "<NDArray 3 @cpu(0)>\n"
     ]
    }
   ],
   "source": [
    "def accuracy(y_hy, y_true):\n",
    "    return nd.mean(y_hy.argmax(axis=1)==y_true).asscalar()\n",
    "\n",
    "def test_accuracy(data_iterator, net):\n",
    "    acc = 0\n",
    "    for data, label in data_iterator:\n",
    "        output = net(data)\n",
    "        acc += accuracy(output, label)\n",
    "    return acc / len(data_iterator)"
   ]
  },
  {
   "cell_type": "code",
   "execution_count": 46,
   "metadata": {},
   "outputs": [
    {
     "name": "stdout",
     "output_type": "stream",
     "text": [
      "epoch: 0  total_loss: nan\n",
      "epoch: 1  total_loss: nan\n",
      "epoch: 2  total_loss: nan\n",
      "epoch: 3  total_loss: nan\n",
      "epoch: 4  total_loss: nan\n",
      "epoch: 5  total_loss: nan\n",
      "epoch: 6  total_loss: nan\n",
      "epoch: 7  total_loss: nan\n",
      "epoch: 8  total_loss: nan\n",
      "epoch: 9  total_loss: nan\n"
     ]
    }
   ],
   "source": [
    "from mxnet import autograd as ag\n",
    "\n",
    "learning_rate = 0.001\n",
    "epoch_num = 10\n",
    "for epoch in xrange(epoch_num):\n",
    "    total_loss = 0\n",
    "    for data, label in train_data:\n",
    "        with ag.record():\n",
    "            y_hy = net(data)\n",
    "            loss = cross_entry(y_hy, label)\n",
    "        loss.backward()\n",
    "        SGD(params, learning_rate/batch_size)\n",
    "    total_loss += nd.mean(loss).asscalar()\n",
    "    print \"epoch:\", epoch, \" total_loss:\", total_loss"
   ]
  },
  {
   "cell_type": "code",
   "execution_count": 48,
   "metadata": {},
   "outputs": [
    {
     "data": {
      "image/png": "[encoded data removed]",
      "text/plain": [
       "<matplotlib.figure.Figure at 0x10f8dd0d0>"
      ]
     },
     "metadata": {},
     "output_type": "display_data"
    },
    {
     "name": "stdout",
     "output_type": "stream",
     "text": [
      "true labels\n",
      "['t-shirt', 'trouser', 'pullover', 'pullover', 'dress,', 'pullover', 'bag', 'shirt', 'sandal']\n",
      "predicted labels\n",
      "['trouser', 'sneaker', 'pullover', 'pullover', 'sneaker', 'trouser', 'pullover', 'pullover', 'sneaker']\n"
     ]
    }
   ],
   "source": [
    "data, label = mnist_test[0:9]\n",
    "show_images(data)\n",
    "print('true labels')\n",
    "print(get_text_labels(label))\n",
    "\n",
    "predicted_labels = net(data).argmax(axis=1)\n",
    "print('predicted labels')\n",
    "print(get_text_labels(predicted_labels.asnumpy()))"
   ]
  }
 ],
 "metadata": {
  "kernelspec": {
   "display_name": "Python 2",
   "language": "python",
   "name": "python2"
  },
  "language_info": {
   "codemirror_mode": {
    "name": "ipython",
    "version": 2
   },
   "file_extension": ".py",
   "mimetype": "text/x-python",
   "name": "python",
   "nbconvert_exporter": "python",
   "pygments_lexer": "ipython2",
   "version": "2.7.13"
  }
 },
 "nbformat": 4,
 "nbformat_minor": 2
}
