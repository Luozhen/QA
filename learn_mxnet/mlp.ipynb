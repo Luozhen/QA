{
 "cells": [
  {
   "cell_type": "code",
   "execution_count": 15,
   "metadata": {},
   "outputs": [],
   "source": [
    "from mxnet import nd\n",
    "from mxnet import gluon\n",
    "from mxnet import autograd"
   ]
  },
  {
   "cell_type": "code",
   "execution_count": 11,
   "metadata": {},
   "outputs": [],
   "source": [
    "def transform(data, label):\n",
    "    return data.astype('float32')/255, label.astype('float32')\n",
    "mnist_train = gluon.data.vision.FashionMNIST(train=True, transform=transform)\n",
    "mnist_test = gluon.data.vision.FashionMNIST(train=False, transform=transform)"
   ]
  },
  {
   "cell_type": "code",
   "execution_count": 12,
   "metadata": {
    "collapsed": true
   },
   "outputs": [],
   "source": [
    "batch_size = 256\n",
    "train_data = gluon.data.DataLoader(mnist_train, batch_size, shuffle=True)\n",
    "test_data = gluon.data.DataLoader(mnist_test, batch_size, shuffle=False)"
   ]
  },
  {
   "cell_type": "code",
   "execution_count": 34,
   "metadata": {},
   "outputs": [],
   "source": [
    "num_inputs = 28 * 28\n",
    "num_outputs = 10\n",
    "\n",
    "num_hidden = 500\n",
    "weight_scale = 0.01\n",
    "\n",
    "W1 = nd.random_normal(shape=(num_inputs, num_hidden), scale=weight_scale)\n",
    "b1 = nd.zeros(num_hidden)\n",
    "\n",
    "W2 = nd.random_normal(shape=(num_hidden, num_outputs), scale=weight_scale)\n",
    "b2 = nd.zeros(num_outputs)\n",
    "\n",
    "W3 = nd.random_normal(shape=(num_hidden, num_outputs), scale=weight_scale)\n",
    "b3 = nd.zeros(num_outputs)\n",
    "\n",
    "params = [W1, b1, W2, b2]\n",
    "\n",
    "for param in params:\n",
    "    param.attach_grad()"
   ]
  },
  {
   "cell_type": "code",
   "execution_count": 6,
   "metadata": {
    "collapsed": true
   },
   "outputs": [],
   "source": [
    "def relu(X):\n",
    "    return nd.maximum(X, 0)"
   ]
  },
  {
   "cell_type": "code",
   "execution_count": 7,
   "metadata": {
    "collapsed": true
   },
   "outputs": [],
   "source": [
    "def net(X):\n",
    "    X = X.reshape((-1, num_inputs))\n",
    "    h1 = relu(nd.dot(X, W1) + b1)\n",
    "    #h2 = relu(nd.dot(h1, W2) + b2)\n",
    "    output = nd.dot(h1, W2) + b2\n",
    "    return output"
   ]
  },
  {
   "cell_type": "code",
   "execution_count": 8,
   "metadata": {
    "collapsed": true
   },
   "outputs": [],
   "source": [
    "softmax_cross_entropy = gluon.loss.SoftmaxCrossEntropyLoss()"
   ]
  },
  {
   "cell_type": "code",
   "execution_count": 13,
   "metadata": {
    "collapsed": true
   },
   "outputs": [],
   "source": [
    "def SGD(params, lr):\n",
    "    for param in params:\n",
    "        param[:] = param - lr * param.grad"
   ]
  },
  {
   "cell_type": "code",
   "execution_count": 24,
   "metadata": {},
   "outputs": [
    {
     "name": "stdout",
     "output_type": "stream",
     "text": [
      "\n",
      "[ 1.  0.  0.]\n",
      "<NDArray 3 @cpu(0)>\n"
     ]
    }
   ],
   "source": [
    "def accuracy(output, label):\n",
    "    return nd.mean(output.argmax(axis=1) == label).asscalar()\n",
    "b = nd.array([1, 2, 3]) == nd.array([1, 5, 6])\n",
    "print b\n",
    "nd.mean(b)\n",
    "\n",
    "def evaluate_accuracy(data_iterator, net):\n",
    "    acc = 0\n",
    "    for data, label in data_iterator:\n",
    "        output = net(data)\n",
    "        acc += accuracy(output, label)\n",
    "    return acc / len(data_iterator)"
   ]
  },
  {
   "cell_type": "code",
   "execution_count": 36,
   "metadata": {},
   "outputs": [
    {
     "name": "stdout",
     "output_type": "stream",
     "text": [
      "Epoch 0. Loss: 0.346734, Train acc 0.871936, Test acc 0.875195\n",
      "Epoch 1. Loss: 0.335921, Train acc 0.875388, Test acc 0.882617\n",
      "Epoch 2. Loss: 0.321422, Train acc 0.880546, Test acc 0.883789\n",
      "Epoch 3. Loss: 0.312109, Train acc 0.885527, Test acc 0.882129\n",
      "Epoch 4. Loss: 0.300624, Train acc 0.888863, Test acc 0.887988\n"
     ]
    }
   ],
   "source": [
    "learning_rate = .5\n",
    "\n",
    "for epoch in range(5):\n",
    "    train_loss = 0.\n",
    "    train_acc = 0.\n",
    "    for data, label in train_data:\n",
    "        with autograd.record():\n",
    "            output = net(data)\n",
    "            loss = softmax_cross_entropy(output, label)\n",
    "        loss.backward()\n",
    "        SGD(params, learning_rate/batch_size)\n",
    "\n",
    "        train_loss += nd.mean(loss).asscalar()\n",
    "        train_acc += accuracy(output, label)\n",
    "\n",
    "    test_acc = evaluate_accuracy(test_data, net)\n",
    "    print(\"Epoch %d. Loss: %f, Train acc %f, Test acc %f\" % (\n",
    "        epoch, train_loss/len(train_data),\n",
    "        train_acc/len(train_data), test_acc))"
   ]
  },
  {
   "cell_type": "code",
   "execution_count": null,
   "metadata": {
    "collapsed": true
   },
   "outputs": [],
   "source": [
    "weight_scale = 0.01\n",
    "Epoch 0. Loss: 0.498044, Train acc 0.816218, Test acc 0.850195\n",
    "Epoch 1. Loss: 0.432528, Train acc 0.839146, Test acc 0.857227\n",
    "Epoch 2. Loss: 0.404176, Train acc 0.851064, Test acc 0.853711\n",
    "Epoch 3. Loss: 0.380669, Train acc 0.859153, Test acc 0.867480\n",
    "Epoch 4. Loss: 0.355557, Train acc 0.868855, Test acc 0.878418"
   ]
  },
  {
   "cell_type": "code",
   "execution_count": null,
   "metadata": {
    "collapsed": true
   },
   "outputs": [],
   "source": [
    "weight_scale = 0.001\n",
    "Epoch 0. Loss: 0.962024, Train acc 0.635688, Test acc 0.773730\n",
    "Epoch 1. Loss: 0.512262, Train acc 0.810184, Test acc 0.833301\n",
    "Epoch 2. Loss: 0.441075, Train acc 0.837312, Test acc 0.860938\n",
    "Epoch 3. Loss: 0.407427, Train acc 0.849313, Test acc 0.860059\n",
    "Epoch 4. Loss: 0.387933, Train acc 0.858278, Test acc 0.867480"
   ]
  },
  {
   "cell_type": "code",
   "execution_count": null,
   "metadata": {
    "collapsed": true
   },
   "outputs": [],
   "source": [
    "weight_scale = 0.05\n",
    "Epoch 0. Loss: 0.690762, Train acc 0.747701, Test acc 0.814746\n",
    "Epoch 1. Loss: 0.459743, Train acc 0.830785, Test acc 0.855176\n",
    "Epoch 2. Loss: 0.406879, Train acc 0.849008, Test acc 0.870410\n",
    "Epoch 3. Loss: 0.375833, Train acc 0.862616, Test acc 0.863379\n",
    "Epoch 4. Loss: 0.354530, Train acc 0.870324, Test acc 0.869629"
   ]
  },
  {
   "cell_type": "code",
   "execution_count": null,
   "metadata": {
    "collapsed": true
   },
   "outputs": [],
   "source": [
    "weight_scale = 0.1\n"
   ]
  },
  {
   "cell_type": "code",
   "execution_count": null,
   "metadata": {
    "collapsed": true
   },
   "outputs": [],
   "source": [
    "num_hidden = 256 (weight_scale = 0.01)\n",
    "Epoch 0. Loss: 0.498044, Train acc 0.816218, Test acc 0.850195\n",
    "Epoch 1. Loss: 0.432528, Train acc 0.839146, Test acc 0.857227\n",
    "Epoch 2. Loss: 0.404176, Train acc 0.851064, Test acc 0.853711\n",
    "Epoch 3. Loss: 0.380669, Train acc 0.859153, Test acc 0.867480\n",
    "Epoch 4. Loss: 0.355557, Train acc 0.868855, Test acc 0.878418\n",
    "\n",
    "\n",
    "num_hidden = 500 (weight_scale = 0.01)\n",
    "Epoch 0. Loss: 0.766395, Train acc 0.715426, Test acc 0.832910\n",
    "Epoch 1. Loss: 0.475981, Train acc 0.823460, Test acc 0.859668\n",
    "Epoch 2. Loss: 0.420511, Train acc 0.845351, Test acc 0.869141\n",
    "Epoch 3. Loss: 0.390085, Train acc 0.856544, Test acc 0.871777\n",
    "Epoch 4. Loss: 0.364865, Train acc 0.863802, Test acc 0.867383"
   ]
  }
 ],
 "metadata": {
  "kernelspec": {
   "display_name": "Python 2",
   "language": "python",
   "name": "python2"
  },
  "language_info": {
   "codemirror_mode": {
    "name": "ipython",
    "version": 2
   },
   "file_extension": ".py",
   "mimetype": "text/x-python",
   "name": "python",
   "nbconvert_exporter": "python",
   "pygments_lexer": "ipython2",
   "version": "2.7.13"
  }
 },
 "nbformat": 4,
 "nbformat_minor": 2
}
