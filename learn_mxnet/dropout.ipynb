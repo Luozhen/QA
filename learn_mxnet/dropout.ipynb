{
 "cells": [
  {
   "cell_type": "code",
   "execution_count": 1,
   "metadata": {
    "collapsed": true
   },
   "outputs": [],
   "source": [
    "from mxnet import nd"
   ]
  },
  {
   "cell_type": "code",
   "execution_count": 4,
   "metadata": {},
   "outputs": [
    {
     "name": "stdout",
     "output_type": "stream",
     "text": [
      "\n",
      "[ 0.  1.  0.]\n",
      "<NDArray 3 @cpu(0)>\n",
      "\n",
      "[ 0.84426576  0.60276335  0.85794562]\n",
      "<NDArray 3 @cpu(0)>\n",
      "3\n"
     ]
    }
   ],
   "source": [
    "a = nd.array([1, 2, 3])\n",
    "b = 2\n",
    "print a == b\n",
    "print nd.random.uniform(0, 1.0, a.shape, ctx=a.context)\n",
    "print 10 // 3"
   ]
  }
 ],
 "metadata": {
  "kernelspec": {
   "display_name": "Python 2",
   "language": "python",
   "name": "python2"
  },
  "language_info": {
   "codemirror_mode": {
    "name": "ipython",
    "version": 2
   },
   "file_extension": ".py",
   "mimetype": "text/x-python",
   "name": "python",
   "nbconvert_exporter": "python",
   "pygments_lexer": "ipython2",
   "version": "2.7.13"
  }
 },
 "nbformat": 4,
 "nbformat_minor": 2
}
